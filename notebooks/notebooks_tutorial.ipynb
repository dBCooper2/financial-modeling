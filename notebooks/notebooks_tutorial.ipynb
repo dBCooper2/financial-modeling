{
 "cells": [
  {
   "cell_type": "markdown",
   "metadata": {},
   "source": [
    "# Jupyter Notebooks: Setup, Running Code, and Fixing Some Issues I Ran Into\n",
    "\n",
    "This is a quick setup guide for using Jupyter Notebooks that I can come back and reference if I have an issue, or that I can send to someone new to Jupyter\n",
    "\n",
    "This guide will cover:\n",
    "\n",
    "- Installing Jupyter Notebooks\n",
    "- Setting up a Virtual Environments(venvs) to handle Imports and Pip Installs\n",
    "- Running Code using Jupyter Notebooks\n",
    "\n",
    "This guide is for VSCode Users who want to Use Jupyter Notebooks and does not cover other solutions, please have VSCode installed for this guide, thank you!"
   ]
  },
  {
   "cell_type": "markdown",
   "metadata": {},
   "source": [
    "# Part 1: Installation\n",
    "\n",
    "## MacOS/Linux\n",
    "\n",
    "I use MacOS, to use Jupyter you should install homebrew(https://brew.sh) and then install using"
   ]
  },
  {
   "cell_type": "raw",
   "metadata": {},
   "source": [
    "brew install jupyter"
   ]
  },
  {
   "cell_type": "markdown",
   "metadata": {},
   "source": [
    "so you can use it with virtual environments\n",
    "\n",
    "## Windows\n",
    "\n",
    "Disclaimer, I don't know if this will 100% work with Windows computers, so please research for yourself if this solution will work with Windows for Virtual Environments\n",
    "\n",
    "You should already have Python and pip installed, so simply install with"
   ]
  },
  {
   "cell_type": "raw",
   "metadata": {},
   "source": [
    "pip install jupyterlab"
   ]
  },
  {
   "cell_type": "markdown",
   "metadata": {},
   "source": [
    "then launch with "
   ]
  },
  {
   "cell_type": "raw",
   "metadata": {},
   "source": [
    "jupyter lab"
   ]
  },
  {
   "cell_type": "markdown",
   "metadata": {},
   "source": [
    "# Part 2: Setting up your venv\n",
    "\n",
    "For this project I need to use external Python libraries to support my code, and have run into issues installing the libraries globally onto my machine. Therefore, I need to set up Virtual Environments for my projects that handle all of the installs in just the project's directory. For this I use venv, and there are other solutions like pyenv that this guide will not cover.\n",
    "\n",
    "To set up a venv, navigate to your project's directory and run the command\n",
    "\n",
    "### MacOS/Linux (Bash/ZSH):"
   ]
  },
  {
   "cell_type": "raw",
   "metadata": {},
   "source": [
    "python -m venv /path/to/new/virtual/environment/.venv"
   ]
  },
  {
   "cell_type": "markdown",
   "metadata": {},
   "source": [
    "\n",
    "### Windows (CMD):"
   ]
  },
  {
   "cell_type": "raw",
   "metadata": {},
   "source": [
    "c:\\>Python35\\python -m venv c:\\path\\to\\myenv\\.venv\\"
   ]
  },
  {
   "cell_type": "markdown",
   "metadata": {},
   "source": [
    "You have now created your venv, and should see a new folder labeled .venv in your project's directory. This contains the necessary files to keep all of your python and pip installs local to the project's directory and should keep you from having issues down the line like I did. From here, we need to activate the venv to start working in it.\n",
    "\n",
    "To activate the venv, you need to run the 'activate' script located in your venv's /bin/ directory. To do this, run the command listed below:"
   ]
  },
  {
   "cell_type": "markdown",
   "metadata": {},
   "source": [
    "### MacOS/Linux(bash/zsh):"
   ]
  },
  {
   "cell_type": "raw",
   "metadata": {},
   "source": [
    "$ source <venv>/bin/activate"
   ]
  },
  {
   "cell_type": "markdown",
   "metadata": {},
   "source": [
    "### Windows(cmd):"
   ]
  },
  {
   "cell_type": "raw",
   "metadata": {},
   "source": [
    "C:\\> <venv>\\Scripts\\activate.bat"
   ]
  },
  {
   "cell_type": "markdown",
   "metadata": {},
   "source": [
    "If everything ran correctly, you should now see your venv's directory name in your terminal like this:\n",
    "\n",
    "Path/To/Project/Name <venv_name> $\n",
    "\n",
    "If you see this or something similar, congratulations! Your venv is active, and you can get to work. The last thing we need to do is install ipython to use Jupyter Notebooks and install the libraries you need and you are ready to go!\n",
    "\n",
    "First install ipython with the command:"
   ]
  },
  {
   "cell_type": "raw",
   "metadata": {},
   "source": [
    "pip install ipython"
   ]
  },
  {
   "cell_type": "markdown",
   "metadata": {},
   "source": [
    "Then install any other libraries after:"
   ]
  },
  {
   "cell_type": "raw",
   "metadata": {},
   "source": [
    "pip install library-name"
   ]
  },
  {
   "cell_type": "markdown",
   "metadata": {},
   "source": [
    "# Step 3: Running Code in Jupyter Notebooks\n",
    "\n",
    "Now that you have Jupyter Notebooks installed and have your virtual environment set up, you can get started with Jupyter!\n",
    "\n",
    "To create your first Notebook, create a file with the name hello-world.ipynb. This extension lets VSCode know your file is a Jupyter Notebook.\n",
    "\n",
    "In this new file you should see a block with 'Python' in the bottom-right corner. This is called a cell, and you can type the code"
   ]
  },
  {
   "cell_type": "code",
   "execution_count": 2,
   "metadata": {},
   "outputs": [
    {
     "name": "stdout",
     "output_type": "stream",
     "text": [
      "hello world!\n"
     ]
    }
   ],
   "source": [
    "print('hello world!')"
   ]
  },
  {
   "cell_type": "markdown",
   "metadata": {},
   "source": [
    "When you press Shift+Enter on this cell or press the play button, VSCode should prompt you at the top of the screen to select a kernel to run the code in. Select your venv folder, and the output should appear."
   ]
  },
  {
   "cell_type": "markdown",
   "metadata": {},
   "source": [
    "# Additional Notes:\n",
    "\n",
    "For your Venv, if you want to deactivate it, all you need to do is type 'deactivate' in the project's parent directory. If you need to reactivate it, simply run the <venv_name>/bin/activate command again\n",
    "\n",
    "### If you rename your project folder you will need to rebuild your Virtual Environment!\n",
    "\n",
    "You can do this by running:"
   ]
  },
  {
   "cell_type": "raw",
   "metadata": {},
   "source": [
    "python3 -m venv <new-venv-name> --clear"
   ]
  },
  {
   "cell_type": "markdown",
   "metadata": {},
   "source": [
    "Reactivate the venv, then you can delete the old venv's folder"
   ]
  }
 ],
 "metadata": {
  "kernelspec": {
   "display_name": ".env",
   "language": "python",
   "name": "python3"
  },
  "language_info": {
   "codemirror_mode": {
    "name": "ipython",
    "version": 3
   },
   "file_extension": ".py",
   "mimetype": "text/x-python",
   "name": "python",
   "nbconvert_exporter": "python",
   "pygments_lexer": "ipython3",
   "version": "3.11.6"
  }
 },
 "nbformat": 4,
 "nbformat_minor": 2
}
