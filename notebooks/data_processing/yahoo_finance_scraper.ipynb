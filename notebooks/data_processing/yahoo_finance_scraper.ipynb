{
 "cells": [
  {
   "cell_type": "markdown",
   "metadata": {},
   "source": [
    "# Yahoo Finance Scraper: Extracting Financial Data from Yahoo Finance with BeautifulSoup\n",
    "\n",
    "After practicing using BeautifulSoup to extract data from Wikipedia via Scraping, we will be pulling data from Yahoo Finance to be able to fill any gaps in financial calculations that raw stock data is insufficient for, like book data from financial statements\n",
    "\n",
    "## NOTE: YOU NEED TO ADD A USER AGENT TO YOUR REQUESTS!!! EMAIL YOUR PROF\n",
    "\n",
    "### Links:\n",
    "\n",
    "Yahoo Finance: https://finance.yahoo.com/\n",
    "\n",
    "Stock Quote: https://finance.yahoo.com/quote/{}?p={}\n",
    "\n",
    "Statistics: https://finance.yahoo.com/quote/{}/key-statistics?p={}\n",
    "\n",
    "Historical Data: Skipped, the yfinance package can handle this for us\n",
    "\n",
    "Profile: https://finance.yahoo.com/quote/{}/profile?p={}\n",
    "\n",
    "Financials: https://finance.yahoo.com/quote/{}/financials?p={}"
   ]
  },
  {
   "cell_type": "markdown",
   "metadata": {},
   "source": [
    "## Step 1: Imports and Configs\n",
    "\n",
    "For this experiment we will be using AMD as our stock"
   ]
  },
  {
   "cell_type": "code",
   "execution_count": 24,
   "metadata": {},
   "outputs": [],
   "source": [
    "import requests as rq\n",
    "from bs4 import BeautifulSoup\n",
    "import pandas as pd\n",
    "import json"
   ]
  },
  {
   "cell_type": "code",
   "execution_count": 33,
   "metadata": {},
   "outputs": [],
   "source": [
    "user_agent_path = '/Users/dB/.secret/.user-agent.json'\n",
    "\n",
    "with open(user_agent_path) as f: # f = file\n",
    "    ua = json.load(f) # return file contents as a json\n",
    "\n",
    "headers = ua\n",
    "\n",
    "symbol = 'AMD'\n",
    "url_q = f'https://finance.yahoo.com/quote/{symbol}?p={symbol}' # q = Quote\n",
    "url_s = f'https://finance.yahoo.com/quote/{symbol}/key-statistics?p={symbol}' # s = Statistics\n",
    "url_p = f'https://finance.yahoo.com/quote/{symbol}/profile?p={symbol}' # p = Profile\n",
    "url_f = f'https://finance.yahoo.com/quote/{symbol}/financials?p={symbol}' # f = Financials"
   ]
  },
  {
   "cell_type": "markdown",
   "metadata": {},
   "source": [
    "## Step 2a: Scraping Quotes"
   ]
  },
  {
   "cell_type": "markdown",
   "metadata": {},
   "source": [
    "### Creating the BeautifulSoup Object"
   ]
  },
  {
   "cell_type": "code",
   "execution_count": 34,
   "metadata": {},
   "outputs": [
    {
     "name": "stdout",
     "output_type": "stream",
     "text": [
      "<Response [200]>\n"
     ]
    }
   ],
   "source": [
    "response = rq.get(url=url_q, headers=headers)\n",
    "print(response)"
   ]
  },
  {
   "cell_type": "code",
   "execution_count": 27,
   "metadata": {},
   "outputs": [],
   "source": [
    "raw_html = response.text\n",
    "soup = BeautifulSoup(raw_html, 'html')"
   ]
  },
  {
   "cell_type": "markdown",
   "metadata": {},
   "source": [
    "### Scraping the Table"
   ]
  },
  {
   "cell_type": "code",
   "execution_count": 28,
   "metadata": {},
   "outputs": [
    {
     "name": "stdout",
     "output_type": "stream",
     "text": [
      "[<td class=\"C($primaryColor) W(51%)\"><span>Previous Close</span></td>, <td class=\"Ta(end) Fw(600) Lh(14px)\" data-test=\"PREV_CLOSE-value\">162.67</td>, <td class=\"C($primaryColor) W(51%)\"><span>Open</span></td>, <td class=\"Ta(end) Fw(600) Lh(14px)\" data-test=\"OPEN-value\">165.80</td>, <td class=\"C($primaryColor) W(51%)\"><span>Bid</span></td>, <td class=\"Ta(end) Fw(600) Lh(14px)\" data-test=\"BID-value\">175.88 x 800</td>, <td class=\"C($primaryColor) W(51%)\"><span>Ask</span></td>, <td class=\"Ta(end) Fw(600) Lh(14px)\" data-test=\"ASK-value\">175.99 x 800</td>, <td class=\"C($primaryColor) W(51%)\"><span>Day's Range</span></td>, <td class=\"Ta(end) Fw(600) Lh(14px)\" data-test=\"DAYS_RANGE-value\">162.20 - 174.25</td>, <td class=\"C($primaryColor) W(51%)\"><span>52 Week Range</span></td>, <td class=\"Ta(end) Fw(600) Lh(14px)\" data-test=\"FIFTY_TWO_WK_RANGE-value\">71.54 - 174.25</td>, <td class=\"C($primaryColor) W(51%)\"><span>Volume</span></td>, <td class=\"Ta(end) Fw(600) Lh(14px)\" data-test=\"TD_VOLUME-value\"><fin-streamer active=\"\" data-dfield=\"longFmt\" data-field=\"regularMarketVolume\" data-pricehint=\"2\" data-symbol=\"AMD\" data-trend=\"none\" value=\"137,240,249\">137,240,249</fin-streamer></td>, <td class=\"C($primaryColor) W(51%)\"><span>Avg. Volume</span></td>, <td class=\"Ta(end) Fw(600) Lh(14px)\" data-test=\"AVERAGE_VOLUME_3MONTH-value\">61,491,328</td>]\n"
     ]
    }
   ],
   "source": [
    "# Access the Quote Summary Table\n",
    "table = soup.find('table', class_='W(100%)')\n",
    "\n",
    "# Data is just a list of rows, so pull from 'tr's and 'td's\n",
    "rows = table.find_all('td')\n",
    "print(rows)"
   ]
  },
  {
   "cell_type": "code",
   "execution_count": 29,
   "metadata": {},
   "outputs": [
    {
     "name": "stdout",
     "output_type": "stream",
     "text": [
      "{'Previous Close': '162.67', 'Open': '165.80', 'Bid': '175.88 x 800', 'Ask': '175.99 x 800', \"Day's Range\": '162.20 - 174.25', '52 Week Range': '71.54 - 174.25', 'Volume': '137,240,249'}\n"
     ]
    }
   ],
   "source": [
    "# Strip the row, organize into key-value pairs\n",
    "count = 0\n",
    "l = []\n",
    "d = {}\n",
    "for r in rows:\n",
    "    if count < 2:\n",
    "        text = r.text.strip() # gets a string\n",
    "        l.append(text)\n",
    "        count+=1\n",
    "\n",
    "    else:\n",
    "        text = r.text.strip()\n",
    "        d[l[0]] = l[1] # Create a dictionary Entry labeled 'Title':'Text'\n",
    "        count=1\n",
    "        l = [text]\n",
    "print(d)\n"
   ]
  },
  {
   "cell_type": "markdown",
   "metadata": {},
   "source": [
    "### Creating the DataFrame"
   ]
  },
  {
   "cell_type": "code",
   "execution_count": 30,
   "metadata": {},
   "outputs": [
    {
     "data": {
      "text/html": [
       "<div>\n",
       "<style scoped>\n",
       "    .dataframe tbody tr th:only-of-type {\n",
       "        vertical-align: middle;\n",
       "    }\n",
       "\n",
       "    .dataframe tbody tr th {\n",
       "        vertical-align: top;\n",
       "    }\n",
       "\n",
       "    .dataframe thead th {\n",
       "        text-align: right;\n",
       "    }\n",
       "</style>\n",
       "<table border=\"1\" class=\"dataframe\">\n",
       "  <thead>\n",
       "    <tr style=\"text-align: right;\">\n",
       "      <th></th>\n",
       "      <th>Previous Close</th>\n",
       "      <th>Open</th>\n",
       "      <th>Bid</th>\n",
       "      <th>Ask</th>\n",
       "      <th>Day's Range</th>\n",
       "      <th>52 Week Range</th>\n",
       "      <th>Volume</th>\n",
       "    </tr>\n",
       "  </thead>\n",
       "  <tbody>\n",
       "    <tr>\n",
       "      <th>0</th>\n",
       "      <td>162.67</td>\n",
       "      <td>165.80</td>\n",
       "      <td>175.88 x 800</td>\n",
       "      <td>175.99 x 800</td>\n",
       "      <td>162.20 - 174.25</td>\n",
       "      <td>71.54 - 174.25</td>\n",
       "      <td>137,240,249</td>\n",
       "    </tr>\n",
       "  </tbody>\n",
       "</table>\n",
       "</div>"
      ],
      "text/plain": [
       "  Previous Close    Open           Bid           Ask      Day's Range  \\\n",
       "0         162.67  165.80  175.88 x 800  175.99 x 800  162.20 - 174.25   \n",
       "\n",
       "    52 Week Range       Volume  \n",
       "0  71.54 - 174.25  137,240,249  "
      ]
     },
     "execution_count": 30,
     "metadata": {},
     "output_type": "execute_result"
    }
   ],
   "source": [
    "columns = d.keys()\n",
    "df = pd.DataFrame(columns=columns)\n",
    "df.loc[len(df)] = d.values()\n",
    "df"
   ]
  },
  {
   "cell_type": "markdown",
   "metadata": {},
   "source": [
    "## Step 2b: Scraping Statistics"
   ]
  },
  {
   "cell_type": "markdown",
   "metadata": {},
   "source": [
    "### Creating the BeautifulSoup Object"
   ]
  },
  {
   "cell_type": "code",
   "execution_count": 35,
   "metadata": {},
   "outputs": [
    {
     "name": "stdout",
     "output_type": "stream",
     "text": [
      "<Response [200]>\n"
     ]
    }
   ],
   "source": [
    "response = rq.get(url_s, headers=headers)\n",
    "print(response)"
   ]
  },
  {
   "cell_type": "code",
   "execution_count": 36,
   "metadata": {},
   "outputs": [],
   "source": [
    "raw_html = response.text\n",
    "soup = BeautifulSoup(raw_html, 'html')"
   ]
  },
  {
   "cell_type": "markdown",
   "metadata": {},
   "source": [
    "### Scrape the Table"
   ]
  },
  {
   "cell_type": "code",
   "execution_count": 70,
   "metadata": {},
   "outputs": [
    {
     "name": "stdout",
     "output_type": "stream",
     "text": [
      "As of Date: 1/19/2024Current\n",
      "9/30/2023\n",
      "6/30/2023\n",
      "3/31/2023\n",
      "12/31/2022\n"
     ]
    }
   ],
   "source": [
    "# Pull The Row with Column Names\n",
    "cols = soup.find('tr', class_='Bdtw(0px) C($primaryColor)')\n",
    "\n",
    "# Pull the Column Names from the Top Row\n",
    "col_names = cols.find_all('th')\n",
    "\n",
    "col_1 = col_names[0]\n",
    "formatted_cols = col_names[1:]\n",
    "\n",
    "for c in formatted_cols:\n",
    "    print(c.text.strip())\n",
    "# Remove any extra info from the Current Date\n",
    "\n"
   ]
  },
  {
   "cell_type": "code",
   "execution_count": null,
   "metadata": {},
   "outputs": [],
   "source": []
  }
 ],
 "metadata": {
  "kernelspec": {
   "display_name": ".env",
   "language": "python",
   "name": "python3"
  },
  "language_info": {
   "codemirror_mode": {
    "name": "ipython",
    "version": 3
   },
   "file_extension": ".py",
   "mimetype": "text/x-python",
   "name": "python",
   "nbconvert_exporter": "python",
   "pygments_lexer": "ipython3",
   "version": "3.11.6"
  }
 },
 "nbformat": 4,
 "nbformat_minor": 2
}
