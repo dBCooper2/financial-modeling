{
 "cells": [
  {
   "cell_type": "markdown",
   "metadata": {},
   "source": [
    "# Yahoo Finance Scraper: Extracting Financial Data from Yahoo Finance with BeautifulSoup\n",
    "\n",
    "After practicing using BeautifulSoup to extract data from Wikipedia via Scraping, we will be pulling data from Yahoo Finance to be able to fill any gaps in financial calculations that raw stock data is insufficient for, like book data from financial statements\n",
    "\n",
    "### Links:\n",
    "\n",
    "Yahoo Finance: https://finance.yahoo.com/\n",
    "\n",
    "Stock Quote: https://finance.yahoo.com/quote/{}?p={}\n",
    "\n",
    "Statistics: https://finance.yahoo.com/quote/{}/key-statistics?p={}\n",
    "\n",
    "Historical Data: Skipped, the yfinance package can handle this for us\n",
    "\n",
    "Profile: https://finance.yahoo.com/quote/{}/profile?p={}\n",
    "\n",
    "Financials: https://finance.yahoo.com/quote/{}/financials?p={}"
   ]
  },
  {
   "cell_type": "markdown",
   "metadata": {},
   "source": [
    "## Step 1: Imports and Configs\n",
    "\n",
    "For this experiment we will be using AMD as our stock"
   ]
  },
  {
   "cell_type": "code",
   "execution_count": 1,
   "metadata": {},
   "outputs": [],
   "source": [
    "import requests as rq\n",
    "from bs4 import BeautifulSoup\n",
    "import pandas as pd"
   ]
  },
  {
   "cell_type": "code",
   "execution_count": 3,
   "metadata": {},
   "outputs": [],
   "source": [
    "symbol = 'AMD'\n",
    "url_q = 'https://finance.yahoo.com/quote/{}?p={}' # q = Quote\n",
    "url_s = 'https://finance.yahoo.com/quote/{}/key-statistics?p={}' # s = Statistics\n",
    "url_p = 'https://finance.yahoo.com/quote/{}/profile?p={}' # p = Profile\n",
    "url_f = 'https://finance.yahoo.com/quote/{}/financials?p={}' # f = Financials"
   ]
  },
  {
   "cell_type": "markdown",
   "metadata": {},
   "source": [
    "## Step 2a: Scraping Quotes"
   ]
  },
  {
   "cell_type": "markdown",
   "metadata": {},
   "source": [
    "#### Creating the BeautifulSoup Object"
   ]
  },
  {
   "cell_type": "code",
   "execution_count": 6,
   "metadata": {},
   "outputs": [
    {
     "name": "stdout",
     "output_type": "stream",
     "text": [
      "<Response [200]>\n"
     ]
    }
   ],
   "source": [
    "response = rq.get(url=url_q.format(symbol, symbol))\n",
    "print(response)"
   ]
  },
  {
   "cell_type": "code",
   "execution_count": 9,
   "metadata": {},
   "outputs": [],
   "source": [
    "raw_html = response.text\n",
    "soup = BeautifulSoup(raw_html, 'html')"
   ]
  },
  {
   "cell_type": "markdown",
   "metadata": {},
   "source": [
    "### Notes on what in the HTML needs to be scraped\n",
    "\n"
   ]
  },
  {
   "cell_type": "code",
   "execution_count": null,
   "metadata": {},
   "outputs": [],
   "source": []
  }
 ],
 "metadata": {
  "kernelspec": {
   "display_name": ".env",
   "language": "python",
   "name": "python3"
  },
  "language_info": {
   "codemirror_mode": {
    "name": "ipython",
    "version": 3
   },
   "file_extension": ".py",
   "mimetype": "text/x-python",
   "name": "python",
   "nbconvert_exporter": "python",
   "pygments_lexer": "ipython3",
   "version": "3.11.6"
  }
 },
 "nbformat": 4,
 "nbformat_minor": 2
}
