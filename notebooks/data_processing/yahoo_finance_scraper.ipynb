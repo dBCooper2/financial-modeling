{
 "cells": [
  {
   "cell_type": "markdown",
   "metadata": {},
   "source": [
    "# Yahoo Finance Scraper: Extracting Financial Data from Yahoo Finance with BeautifulSoup\n",
    "\n",
    "After practicing using BeautifulSoup to extract data from Wikipedia via Scraping, we will be pulling data from Yahoo Finance to be able to fill any gaps in financial calculations that raw stock data is insufficient for, like book data from financial statements\n",
    "\n",
    "## NOTE: YOU NEED TO ADD A USER AGENT TO YOUR REQUESTS!!! EMAIL YOUR PROF\n",
    "\n",
    "### Links:\n",
    "\n",
    "Yahoo Finance: https://finance.yahoo.com/\n",
    "\n",
    "Stock Quote: https://finance.yahoo.com/quote/{}?p={}\n",
    "\n",
    "Statistics: https://finance.yahoo.com/quote/{}/key-statistics?p={}\n",
    "\n",
    "Historical Data: Skipped, the yfinance package can handle this for us\n",
    "\n",
    "Profile: https://finance.yahoo.com/quote/{}/profile?p={}\n",
    "\n",
    "Financials: https://finance.yahoo.com/quote/{}/financials?p={}"
   ]
  },
  {
   "cell_type": "markdown",
   "metadata": {},
   "source": [
    "## Step 1: Imports and Configs\n",
    "\n",
    "For this experiment we will be using AMD as our stock"
   ]
  },
  {
   "cell_type": "code",
   "execution_count": 94,
   "metadata": {},
   "outputs": [],
   "source": [
    "import requests as rq\n",
    "from bs4 import BeautifulSoup\n",
    "import pandas as pd"
   ]
  },
  {
   "cell_type": "code",
   "execution_count": 106,
   "metadata": {},
   "outputs": [],
   "source": [
    "symbol = 'AMD'\n",
    "url_q = f'https://finance.yahoo.com/quote/{symbol}?p={symbol}' # q = Quote\n",
    "url_s = f'https://finance.yahoo.com/quote/{symbol}/key-statistics?p={symbol}' # s = Statistics\n",
    "url_p = f'https://finance.yahoo.com/quote/{symbol}/profile?p={symbol}' # p = Profile\n",
    "url_f = f'https://finance.yahoo.com/quote/{symbol}/financials?p={symbol}' # f = Financials"
   ]
  },
  {
   "cell_type": "markdown",
   "metadata": {},
   "source": [
    "## Step 2a: Scraping Quotes"
   ]
  },
  {
   "cell_type": "markdown",
   "metadata": {},
   "source": [
    "### Creating the BeautifulSoup Object"
   ]
  },
  {
   "cell_type": "code",
   "execution_count": 96,
   "metadata": {},
   "outputs": [
    {
     "name": "stdout",
     "output_type": "stream",
     "text": [
      "<Response [200]>\n"
     ]
    }
   ],
   "source": [
    "\n",
    "response = rq.get(url=url_q)\n",
    "print(response)"
   ]
  },
  {
   "cell_type": "code",
   "execution_count": 97,
   "metadata": {},
   "outputs": [],
   "source": [
    "raw_html = response.text\n",
    "soup = BeautifulSoup(raw_html, 'html')"
   ]
  },
  {
   "cell_type": "markdown",
   "metadata": {},
   "source": [
    "### Scraping the Table"
   ]
  },
  {
   "cell_type": "code",
   "execution_count": 98,
   "metadata": {},
   "outputs": [
    {
     "name": "stdout",
     "output_type": "stream",
     "text": [
      "[<td class=\"C($primaryColor) W(51%)\"><span>Previous Close</span></td>, <td class=\"Ta(end) Fw(600) Lh(14px)\" data-test=\"PREV_CLOSE-value\">162.67</td>, <td class=\"C($primaryColor) W(51%)\"><span>Open</span></td>, <td class=\"Ta(end) Fw(600) Lh(14px)\" data-test=\"OPEN-value\">165.80</td>, <td class=\"C($primaryColor) W(51%)\"><span>Bid</span></td>, <td class=\"Ta(end) Fw(600) Lh(14px)\" data-test=\"BID-value\">174.29 x 800</td>, <td class=\"C($primaryColor) W(51%)\"><span>Ask</span></td>, <td class=\"Ta(end) Fw(600) Lh(14px)\" data-test=\"ASK-value\">174.59 x 800</td>, <td class=\"C($primaryColor) W(51%)\"><span>Day's Range</span></td>, <td class=\"Ta(end) Fw(600) Lh(14px)\" data-test=\"DAYS_RANGE-value\">162.20 - 174.25</td>, <td class=\"C($primaryColor) W(51%)\"><span>52 Week Range</span></td>, <td class=\"Ta(end) Fw(600) Lh(14px)\" data-test=\"FIFTY_TWO_WK_RANGE-value\">67.45 - 174.25</td>, <td class=\"C($primaryColor) W(51%)\"><span>Volume</span></td>, <td class=\"Ta(end) Fw(600) Lh(14px)\" data-test=\"TD_VOLUME-value\"><fin-streamer active=\"\" data-dfield=\"longFmt\" data-field=\"regularMarketVolume\" data-pricehint=\"2\" data-symbol=\"AMD\" data-trend=\"none\" value=\"137,240,249\">137,240,249</fin-streamer></td>, <td class=\"C($primaryColor) W(51%)\"><span>Avg. Volume</span></td>, <td class=\"Ta(end) Fw(600) Lh(14px)\" data-test=\"AVERAGE_VOLUME_3MONTH-value\">61,482,032</td>]\n"
     ]
    }
   ],
   "source": [
    "# Access the Quote Summary Table\n",
    "table = soup.find('table', class_='W(100%)')\n",
    "\n",
    "# Data is just a list of rows, so pull from 'tr's and 'td's\n",
    "rows = table.find_all('td')\n",
    "print(rows)"
   ]
  },
  {
   "cell_type": "code",
   "execution_count": 99,
   "metadata": {},
   "outputs": [
    {
     "name": "stdout",
     "output_type": "stream",
     "text": [
      "{'Previous Close': '162.67', 'Open': '165.80', 'Bid': '174.29 x 800', 'Ask': '174.59 x 800', \"Day's Range\": '162.20 - 174.25', '52 Week Range': '67.45 - 174.25', 'Volume': '137,240,249'}\n"
     ]
    }
   ],
   "source": [
    "# Strip the row, organize into key-value pairs\n",
    "count = 0\n",
    "l = []\n",
    "d = {}\n",
    "for r in rows:\n",
    "    if count < 2:\n",
    "        text = r.text.strip() # gets a string\n",
    "        l.append(text)\n",
    "        count+=1\n",
    "\n",
    "    else:\n",
    "        text = r.text.strip()\n",
    "        d[l[0]] = l[1] # Create a dictionary Entry labeled 'Title':'Text'\n",
    "        count=1\n",
    "        l = [text]\n",
    "print(d)\n"
   ]
  },
  {
   "cell_type": "markdown",
   "metadata": {},
   "source": [
    "### Creating the DataFrame"
   ]
  },
  {
   "cell_type": "code",
   "execution_count": 100,
   "metadata": {},
   "outputs": [
    {
     "data": {
      "text/html": [
       "<div>\n",
       "<style scoped>\n",
       "    .dataframe tbody tr th:only-of-type {\n",
       "        vertical-align: middle;\n",
       "    }\n",
       "\n",
       "    .dataframe tbody tr th {\n",
       "        vertical-align: top;\n",
       "    }\n",
       "\n",
       "    .dataframe thead th {\n",
       "        text-align: right;\n",
       "    }\n",
       "</style>\n",
       "<table border=\"1\" class=\"dataframe\">\n",
       "  <thead>\n",
       "    <tr style=\"text-align: right;\">\n",
       "      <th></th>\n",
       "      <th>Previous Close</th>\n",
       "      <th>Open</th>\n",
       "      <th>Bid</th>\n",
       "      <th>Ask</th>\n",
       "      <th>Day's Range</th>\n",
       "      <th>52 Week Range</th>\n",
       "      <th>Volume</th>\n",
       "    </tr>\n",
       "  </thead>\n",
       "  <tbody>\n",
       "    <tr>\n",
       "      <th>0</th>\n",
       "      <td>162.67</td>\n",
       "      <td>165.80</td>\n",
       "      <td>174.29 x 800</td>\n",
       "      <td>174.59 x 800</td>\n",
       "      <td>162.20 - 174.25</td>\n",
       "      <td>67.45 - 174.25</td>\n",
       "      <td>137,240,249</td>\n",
       "    </tr>\n",
       "  </tbody>\n",
       "</table>\n",
       "</div>"
      ],
      "text/plain": [
       "  Previous Close    Open           Bid           Ask      Day's Range  \\\n",
       "0         162.67  165.80  174.29 x 800  174.59 x 800  162.20 - 174.25   \n",
       "\n",
       "    52 Week Range       Volume  \n",
       "0  67.45 - 174.25  137,240,249  "
      ]
     },
     "execution_count": 100,
     "metadata": {},
     "output_type": "execute_result"
    }
   ],
   "source": [
    "columns = d.keys()\n",
    "df = pd.DataFrame(columns=columns)\n",
    "df.loc[len(df)] = d.values()\n",
    "df"
   ]
  },
  {
   "cell_type": "markdown",
   "metadata": {},
   "source": [
    "## Step 2b: Scraping Statistics"
   ]
  },
  {
   "cell_type": "markdown",
   "metadata": {},
   "source": [
    "### Creating the BeautifulSoup Object"
   ]
  },
  {
   "cell_type": "code",
   "execution_count": 110,
   "metadata": {},
   "outputs": [
    {
     "name": "stdout",
     "output_type": "stream",
     "text": [
      "<Response [404]>\n"
     ]
    }
   ],
   "source": [
    "response = rq.get(url_s)\n",
    "print(response)"
   ]
  },
  {
   "cell_type": "code",
   "execution_count": 112,
   "metadata": {},
   "outputs": [
    {
     "name": "stdout",
     "output_type": "stream",
     "text": [
      "<!DOCTYPE html>\n",
      "<html lang=\"en-us\"><head>\n",
      "<meta content=\"text/html; charset=utf-8\" http-equiv=\"content-type\"/>\n",
      "<meta charset=\"utf-8\"/>\n",
      "<title>Yahoo</title>\n",
      "<meta content=\"width=device-width,initial-scale=1,minimal-ui\" name=\"viewport\"/>\n",
      "<meta content=\"IE=edge,chrome=1\" http-equiv=\"X-UA-Compatible\"/>\n",
      "<style>\n",
      "  html {\n",
      "      height: 100%;\n",
      "  }\n",
      "  body {\n",
      "      background: #fafafc url(https://s.yimg.com/nn/img/sad-panda-201402200631.png) 50% 50%;\n",
      "      background-size: cover;\n",
      "      height: 100%;\n",
      "      text-align: center;\n",
      "      font: 300 18px \"helvetica neue\", helvetica, verdana, tahoma, arial, sans-serif;\n",
      "  }\n",
      "  table {\n",
      "      height: 100%;\n",
      "      width: 100%;\n",
      "      table-layout: fixed;\n",
      "      border-collapse: collapse;\n",
      "      border-spacing: 0;\n",
      "      border: none;\n",
      "  }\n",
      "  h1 {\n",
      "      font-size: 42px;\n",
      "      font-weight: 400;\n",
      "      color: #400090;\n",
      "  }\n",
      "  p {\n",
      "      color: #1A1A1A;\n",
      "  }\n",
      "  #message-1 {\n",
      "      font-weight: bold;\n",
      "      margin: 0;\n",
      "  }\n",
      "  #message-2 {\n",
      "      display: inline-block;\n",
      "      *display: inline;\n",
      "      zoom: 1;\n",
      "      max-width: 17em;\n",
      "      _width: 17em;\n",
      "  }\n",
      "      </style>\n",
      "<script>\n",
      "    document.write('<img src=\"//geo.yahoo.com/b?s=1197757129&t='+new Date().getTime()+'&src=aws&err_url='+encodeURIComponent(document.URL)+'&err=%<pssc>&test='+encodeURIComponent('%<{Bucket}cqh[:200]>')+'\" width=\"0px\" height=\"0px\"/>');var beacon = new Image();beacon.src=\"//bcn.fp.yahoo.com/p?s=1197757129&t=\"+new Date().getTime()+\"&src=aws&err_url=\"+encodeURIComponent(document.URL)+\"&err=%<pssc>&test=\"+encodeURIComponent('%<{Bucket}cqh[:200]>');\n",
      "  </script>\n",
      "</head>\n",
      "<body>\n",
      "<!-- status code : 404 -->\n",
      "<!-- Not Found on Server -->\n",
      "<table>\n",
      "<tbody><tr>\n",
      "<td>\n",
      "<img alt=\"Yahoo Logo\" src=\"https://s.yimg.com/rz/p/yahoo_frontpage_en-US_s_f_p_205x58_frontpage.png\"/>\n",
      "<h1 style=\"margin-top:20px;\">Will be right back...</h1>\n",
      "<p id=\"message-1\">Thank you for your patience.</p>\n",
      "<p id=\"message-2\">Our engineers are working quickly to resolve the issue.</p>\n",
      "</td>\n",
      "</tr>\n",
      "</tbody></table>\n",
      "</body></html>\n"
     ]
    }
   ],
   "source": [
    "soup = BeautifulSoup(response.text, 'html')\n",
    "print(soup)"
   ]
  },
  {
   "cell_type": "code",
   "execution_count": null,
   "metadata": {},
   "outputs": [],
   "source": []
  }
 ],
 "metadata": {
  "kernelspec": {
   "display_name": ".env",
   "language": "python",
   "name": "python3"
  },
  "language_info": {
   "codemirror_mode": {
    "name": "ipython",
    "version": 3
   },
   "file_extension": ".py",
   "mimetype": "text/x-python",
   "name": "python",
   "nbconvert_exporter": "python",
   "pygments_lexer": "ipython3",
   "version": "3.11.6"
  }
 },
 "nbformat": 4,
 "nbformat_minor": 2
}
