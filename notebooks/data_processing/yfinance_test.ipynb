{
 "cells": [
  {
   "cell_type": "markdown",
   "metadata": {},
   "source": [
    "# Testing yfinance for Candle Data\n",
    "\n",
    "TD Ameritrade's API does not offer Adjusted Close, which I need for the Regression Models. I am testing accessing Yahoo instead because their datasets offer the adj. close data"
   ]
  },
  {
   "cell_type": "code",
   "execution_count": 3,
   "metadata": {},
   "outputs": [],
   "source": [
    "import yfinance as yf\n",
    "import pandas as pd\n",
    "import datetime as dt\n",
    "\n",
    "end_dt = dt.datetime.today()\n",
    "start_dt = end_dt - dt.timedelta(days=5)"
   ]
  },
  {
   "cell_type": "code",
   "execution_count": 10,
   "metadata": {},
   "outputs": [
    {
     "name": "stdout",
     "output_type": "stream",
     "text": [
      "Stock Info JSON\n",
      "{'address1': '2485 Augustine Drive', 'city': 'Santa Clara', 'state': 'CA', 'zip': '95054', 'country': 'United States', 'phone': '408 749 4000', 'website': 'https://www.amd.com', 'industry': 'Semiconductors', 'industryKey': 'semiconductors', 'industryDisp': 'Semiconductors', 'sector': 'Technology', 'sectorKey': 'technology', 'sectorDisp': 'Technology', 'longBusinessSummary': 'Advanced Micro Devices, Inc. operates as a semiconductor company worldwide. It operates in four segments: Data Center, Client, Gaming, and Embedded segments. The company offers x86 microprocessors and graphics processing units (GPUs) as an accelerated processing unit, chipsets, data center, and professional GPUs; and embedded processors, and semi-custom system-on-chip (SoC) products, microprocessor and SoC development services and technology, data processing unites, field programmable gate arrays (FPGA), and adaptive SoC products. It also provides processors under the AMD Ryzen, AMD Ryzen PRO, Ryzen Threadripper, Ryzen Threadripper PRO, AMD Athlon, AMD Athlon PRO, and AMD PRO A-Series brand names; graphics under the AMD Radeon graphics and AMD Embedded Radeon graphics; and professional graphics under the AMD Radeon Pro graphics brand name. In addition, the company offers data center graphics under the Radeon Instinct and Radeon PRO V-series brands, as well as servers under the AMD Instinct accelerators brand; server microprocessors under the AMD EPYC brands; embedded processor solutions under the AMD Athlon, AMD Geode, AMD Ryzen, AMD EPYC, AMD R-Series, and G-Series brands; FPGA products under the Virtex-6, Virtex-7, Virtex UltraScale+, Kintex-7, Kintex UltraScale, Kintex UltraScale+, Artix-7, Artix UltraScale+, Spartan-6, and Spartan-7 brands; adaptive SOCs under the Zynq-7000, Zynq UltraScale+ MPSoC, Zynq UltraScale+ RFSoCs, Versal HBM, Versal Premium, Versal Prime, Versal AI Core, Versal AI Edge, Vitis, and Vivado brands; and compute and network acceleration board products under the Alveo brand. It serves original equipment and design manufacturers, public cloud service providers, system integrators, independent distributors, online and brick and mortar retailers, and add-in-board manufacturers through its direct sales force, independent distributors, and sales representatives. The company was incorporated in 1969 and is headquartered in Santa Clara, California.', 'fullTimeEmployees': 25000, 'companyOfficers': [{'maxAge': 1, 'name': 'Dr. Lisa T. Su Ph.D.', 'age': 53, 'title': 'Chair & CEO', 'yearBorn': 1970, 'fiscalYear': 2022, 'totalPay': 2120679, 'exercisedValue': 61926388, 'unexercisedValue': 84294872}, {'maxAge': 1, 'name': 'Mr. Victor  Peng', 'age': 63, 'title': 'President', 'yearBorn': 1960, 'fiscalYear': 2022, 'totalPay': 6091409, 'exercisedValue': 0, 'unexercisedValue': 0}, {'maxAge': 1, 'name': 'Mr. Mark D. Papermaster', 'age': 61, 'title': 'CTO and Executive VP of Technology & Engineering', 'yearBorn': 1962, 'fiscalYear': 2022, 'totalPay': 1140933, 'exercisedValue': 4836541, 'unexercisedValue': 22460436}, {'maxAge': 1, 'name': 'Mr. Paul Darren Grasby', 'age': 53, 'title': 'Executive Vice President of Strategic Partnerships & President EMEA', 'yearBorn': 1970, 'fiscalYear': 2022, 'totalPay': 921473, 'exercisedValue': 1077205, 'unexercisedValue': 432646}, {'maxAge': 1, 'name': 'Ms. Jean X. Hu', 'age': 60, 'title': 'Executive VP, CFO & Treasurer', 'yearBorn': 1963, 'fiscalYear': 2022, 'exercisedValue': 0, 'unexercisedValue': 0}, {'maxAge': 1, 'name': 'Mr. Keivan  Keshvari', 'title': 'Senior Vice President of Global Operations', 'fiscalYear': 2022, 'exercisedValue': 0, 'unexercisedValue': 0}, {'maxAge': 1, 'name': 'Ms. Darla M. Smith', 'age': 57, 'title': 'Corporate VP & Chief Accounting Officer', 'yearBorn': 1966, 'fiscalYear': 2022, 'exercisedValue': 0, 'unexercisedValue': 0}, {'maxAge': 1, 'name': 'Mr. Hasmukh  Ranjan', 'title': 'Senior VP & Chief Information Officer', 'fiscalYear': 2022, 'exercisedValue': 0, 'unexercisedValue': 0}, {'maxAge': 1, 'name': 'Mr. Harry A. Wolin', 'age': 60, 'title': 'Senior VP, General Counsel & Corporate Secretary', 'yearBorn': 1963, 'fiscalYear': 2022, 'totalPay': 961942, 'exercisedValue': 9188269, 'unexercisedValue': 9460937}, {'maxAge': 1, 'name': 'Ms. Ruth  Cotter', 'title': 'Senior Vice President of Marketing, Communications & Human Resources', 'fiscalYear': 2022, 'exercisedValue': 0, 'unexercisedValue': 0}], 'auditRisk': 8, 'boardRisk': 5, 'compensationRisk': 7, 'shareHolderRightsRisk': 3, 'overallRisk': 5, 'governanceEpochDate': 1704067200, 'compensationAsOfEpochDate': 1672444800, 'maxAge': 86400, 'priceHint': 2, 'previousClose': 148.02, 'open': 148.04, 'dayLow': 145.0, 'dayHigh': 148.742, 'regularMarketPreviousClose': 148.02, 'regularMarketOpen': 148.04, 'regularMarketDayLow': 145.0, 'regularMarketDayHigh': 148.742, 'exDividendDate': 798940800, 'beta': 1.695, 'trailingPE': 1221.3334, 'forwardPE': 39.187164, 'volume': 48293089, 'regularMarketVolume': 48293089, 'averageVolume': 58022496, 'averageVolume10days': 62472330, 'averageDailyVolume10Day': 62472330, 'bid': 146.2, 'ask': 146.25, 'bidSize': 1200, 'askSize': 800, 'marketCap': 236767674368, 'fiftyTwoWeekLow': 67.27, 'fiftyTwoWeekHigh': 151.05, 'priceToSalesTrailing12Months': 10.708139, 'fiftyDayAverage': 129.1166, 'twoHundredDayAverage': 111.4538, 'currency': 'USD', 'enterpriseValue': 233844523008, 'profitMargins': 0.0094099995, 'floatShares': 1605385868, 'sharesOutstanding': 1615500032, 'sharesShort': 49153022, 'sharesShortPriorMonth': 44739272, 'sharesShortPreviousMonthDate': 1701302400, 'dateShortInterest': 1703808000, 'sharesPercentSharesOut': 0.0304, 'heldPercentInsiders': 0.00495, 'heldPercentInstitutions': 0.72266, 'shortRatio': 0.79, 'shortPercentOfFloat': 0.0306, 'impliedSharesOutstanding': 1615500032, 'bookValue': 34.037, 'priceToBook': 4.3059025, 'lastFiscalYearEnd': 1672444800, 'nextFiscalYearEnd': 1703980800, 'mostRecentQuarter': 1696032000, 'earningsQuarterlyGrowth': 3.53, 'netIncomeToCommon': 208000000, 'trailingEps': 0.12, 'forwardEps': 3.74, 'pegRatio': 4.3, 'lastSplitFactor': '2:1', 'lastSplitDate': 966902400, 'enterpriseToRevenue': 10.576, 'enterpriseToEbitda': 76.771, '52WeekChange': 1.0472133, 'SandP52WeekChange': 0.19866347, 'exchange': 'NMS', 'quoteType': 'EQUITY', 'symbol': 'AMD', 'underlyingSymbol': 'AMD', 'shortName': 'Advanced Micro Devices, Inc.', 'longName': 'Advanced Micro Devices, Inc.', 'firstTradeDateEpochUtc': 322151400, 'timeZoneFullName': 'America/New_York', 'timeZoneShortName': 'EST', 'uuid': '48af4341-f745-363f-945f-a838eeabb062', 'messageBoardId': 'finmb_168864', 'gmtOffSetMilliseconds': -18000000, 'currentPrice': 146.56, 'targetHighPrice': 200.0, 'targetLowPrice': 60.0, 'targetMeanPrice': 140.26, 'targetMedianPrice': 139.5, 'recommendationMean': 1.9, 'recommendationKey': 'buy', 'numberOfAnalystOpinions': 38, 'totalCash': 5784999936, 'totalCashPerShare': 3.581, 'ebitda': 3046000128, 'totalDebt': 2862000128, 'quickRatio': 1.421, 'currentRatio': 2.188, 'totalRevenue': 22111000576, 'debtToEquity': 5.206, 'revenuePerShare': 13.697, 'returnOnAssets': -0.00083, 'returnOnEquity': 0.0038, 'grossProfits': 12051000000, 'freeCashflow': 2758500096, 'operatingCashflow': 1852999936, 'earningsGrowth': 3.5, 'revenueGrowth': 0.042, 'grossMargins': 0.50319, 'ebitdaMargins': 0.13776, 'operatingMargins': 0.03862, 'financialCurrency': 'USD', 'trailingPegRatio': 2.0435}\n",
      "\n",
      "Candle Data\n"
     ]
    },
    {
     "name": "stderr",
     "output_type": "stream",
     "text": [
      "[*********************100%%**********************]  1 of 1 completed"
     ]
    },
    {
     "name": "stdout",
     "output_type": "stream",
     "text": [
      "                  Open        High         Low       Close   Adj Close  \\\n",
      "Date                                                                     \n",
      "2024-01-10  150.070007  150.880005  146.649994  148.539993  148.539993   \n",
      "2024-01-11  148.520004  150.380005  143.690002  148.020004  148.020004   \n",
      "2024-01-12  148.039993  148.750000  145.000000  146.559998  146.559998   \n",
      "\n",
      "              Volume  \n",
      "Date                  \n",
      "2024-01-10  56951200  \n",
      "2024-01-11  62764600  \n",
      "2024-01-12  48250800  \n"
     ]
    },
    {
     "name": "stderr",
     "output_type": "stream",
     "text": [
      "\n"
     ]
    }
   ],
   "source": [
    "symbol = 'AMD'\n",
    "\n",
    "# Create the Ticker Object to make API Calls\n",
    "t = yf.Ticker(symbol)\n",
    "\n",
    "# Looking at the Data\n",
    "print('Stock Info JSON')\n",
    "print(t.info)\n",
    "\n",
    "print('\\nCandle Data')\n",
    "t_candles = yf.download(tickers=symbol, start=start_dt, end=end_dt, interval='1d')\n",
    "print(t_candles)"
   ]
  },
  {
   "cell_type": "markdown",
   "metadata": {},
   "source": [
    "# Testing the Functionality of the yf.download() command"
   ]
  },
  {
   "cell_type": "code",
   "execution_count": 16,
   "metadata": {},
   "outputs": [
    {
     "name": "stderr",
     "output_type": "stream",
     "text": [
      "[*********************100%%**********************]  3 of 3 completed"
     ]
    },
    {
     "name": "stdout",
     "output_type": "stream",
     "text": [
      "\n",
      "\n",
      "             Adj Close                               Close              \\\n",
      "                  AAPL         AMD        NVDA        AAPL         AMD   \n",
      "Date                                                                     \n",
      "2024-01-10  186.190002  148.539993  543.500000  186.190002  148.539993   \n",
      "2024-01-11  185.589996  148.020004  548.219971  185.589996  148.020004   \n",
      "2024-01-12  185.919998  146.559998  547.099976  185.919998  146.559998   \n",
      "\n",
      "                              High                                 Low  \\\n",
      "                  NVDA        AAPL         AMD        NVDA        AAPL   \n",
      "Date                                                                     \n",
      "2024-01-10  543.500000  186.399994  150.880005  546.000000  183.919998   \n",
      "2024-01-11  548.219971  187.050003  150.380005  553.460022  183.619995   \n",
      "2024-01-12  547.099976  186.740005  148.750000  549.700012  185.190002   \n",
      "\n",
      "                                          Open                          \\\n",
      "                   AMD        NVDA        AAPL         AMD        NVDA   \n",
      "Date                                                                     \n",
      "2024-01-10  146.649994  534.890015  184.350006  150.070007  536.159973   \n",
      "2024-01-11  143.690002  535.599976  186.539993  148.520004  549.989990   \n",
      "2024-01-12  145.000000  543.299988  186.059998  148.039993  546.200012   \n",
      "\n",
      "              Volume                      \n",
      "                AAPL       AMD      NVDA  \n",
      "Date                                      \n",
      "2024-01-10  46792900  56951200  53379600  \n",
      "2024-01-11  49128400  62764600  59675900  \n",
      "2024-01-12  40444700  48250800  35247900  \n",
      "<class 'pandas.core.frame.DataFrame'>\n"
     ]
    },
    {
     "name": "stderr",
     "output_type": "stream",
     "text": [
      "\n"
     ]
    }
   ],
   "source": [
    "data = yf.download(tickers='AMD, AAPL, NVDA', start=start_dt, end=end_dt, interval='1d')\n",
    "print('\\n')\n",
    "print(data)\n",
    "print(type(data))"
   ]
  },
  {
   "cell_type": "markdown",
   "metadata": {},
   "source": [
    "Some Notes on this:\n",
    "\n",
    "- Returning the Data as a DataFrame is sweet and should make cleaning the data much simpler\n",
    "- The Progress Bar is not stored in the data"
   ]
  },
  {
   "cell_type": "markdown",
   "metadata": {},
   "source": []
  }
 ],
 "metadata": {
  "kernelspec": {
   "display_name": ".env",
   "language": "python",
   "name": "python3"
  },
  "language_info": {
   "codemirror_mode": {
    "name": "ipython",
    "version": 3
   },
   "file_extension": ".py",
   "mimetype": "text/x-python",
   "name": "python",
   "nbconvert_exporter": "python",
   "pygments_lexer": "ipython3",
   "version": "3.11.6"
  }
 },
 "nbformat": 4,
 "nbformat_minor": 2
}
