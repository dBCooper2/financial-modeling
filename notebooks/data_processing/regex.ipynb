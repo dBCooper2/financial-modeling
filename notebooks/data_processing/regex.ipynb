{
 "cells": [
  {
   "cell_type": "markdown",
   "metadata": {},
   "source": [
    "# Regex - Regular Expressions\n",
    "\n",
    "Regular expressions are a powerful way to quickly search through text. Knowing regex is a powerful tool for the Yahoo Web Scraper, as it will allow me to identify strings that I want to scrape within the html better.\n",
    "\n",
    "This Notebook is my notes from <https://regexone.com>"
   ]
  },
  {
   "cell_type": "markdown",
   "metadata": {},
   "source": [
    "## Lesson 1: Introduction and the ABC's\n",
    "\n",
    "### Regular Expressions\n",
    "\n",
    "- Extremely useful for extracting information from text.\n",
    "- There is a lot of theory behind Regex, but these are some practical examples\n",
    "\n",
    "#### Everything is a Character\n",
    "\n",
    "- We are writing patterns to match a specific sequence of characters(aka a string)"
   ]
  },
  {
   "cell_type": "raw",
   "metadata": {},
   "source": [
    "Task \tText \t \n",
    "match \tabcdefg \tSuccess\n",
    "match \tabcde \t    Success\n",
    "match \tabc \t    Success\n",
    "\n",
    "Solution: abc"
   ]
  },
  {
   "cell_type": "markdown",
   "metadata": {},
   "source": [
    "## Lesson 2: The Dot\n",
    "\n",
    "### '.'\n",
    "\n",
    "The . character matches to every character. For example, the strings abc and afc could both be matched with 'a.c'\n",
    "\n",
    "### Matching . with .\n",
    "\n",
    "To search for a '.', use '\\\\\\.'"
   ]
  },
  {
   "cell_type": "raw",
   "metadata": {},
   "source": [
    "Task \tText \t \n",
    "match \tcat. \tSuccess\n",
    "match \t896. \tSuccess\n",
    "match \t?=+. \tSuccess\n",
    "skip \tabc1\n",
    "\n",
    "Solution: \\."
   ]
  },
  {
   "cell_type": "markdown",
   "metadata": {},
   "source": [
    "## Lesson 3: Matching Specific Characters\n",
    "\n",
    "Matching a specific character can be done by inserting the characters in brackets, see the example below"
   ]
  },
  {
   "cell_type": "raw",
   "metadata": {},
   "source": [
    "Task \tText\n",
    "match \tcan \tSuccess\n",
    "match \tman \tSuccess\n",
    "match \tfan \tSuccess\n",
    "skip \tdan \tTo be completed\n",
    "skip \tran \tTo be completed\n",
    "skip \tpan\n",
    "\n",
    "Solution: [cmf], [cmf]an"
   ]
  },
  {
   "cell_type": "markdown",
   "metadata": {},
   "source": [
    "## Lesson 4: Excluding Specific Characters\n",
    "\n",
    "The same way that we included specific characters with [chars], we can also exclude characters the same way with [^chars]"
   ]
  },
  {
   "cell_type": "raw",
   "metadata": {},
   "source": [
    "Task \tText \t \n",
    "match \thog \tSuccess\n",
    "match \tdog \tSuccess\n",
    "skip \tbog\n",
    "\n",
    "Solution: [^b]og"
   ]
  },
  {
   "cell_type": "markdown",
   "metadata": {},
   "source": [
    "## Lesson 5: Character Ranges\n",
    "\n",
    "For a range of sequential characters, like abcde, you can use surround the first and last characters in the sequence with brackets and separate the chars with a dash to match those characters"
   ]
  },
  {
   "cell_type": "raw",
   "metadata": {},
   "source": [
    "\n",
    "Task \tText \t \n",
    "match \tAna \tSuccess\n",
    "match \tBob \tSuccess\n",
    "match \tCpc \tSuccess\n",
    "skip \taax \tTo be completed\n",
    "skip \tbby \tTo be completed\n",
    "skip \tccz\n",
    "\n",
    "Solution: [A-C][n-p][a-c]"
   ]
  },
  {
   "cell_type": "markdown",
   "metadata": {},
   "source": [
    "## Lesson 6: Repeating Characters\n",
    "\n",
    "If you have a string with repeating characters like wazzzzzzup, you can catch these strings with a Regex that uses <char\\>{range}, where char is a character and range is an int.\n",
    "\n",
    "Additionally, you can catch strings of repeating characters with varying lengths. You can specify range in <char\\>{range} as a range of ints, specified with {min,max}.\n",
    "\n"
   ]
  },
  {
   "cell_type": "raw",
   "metadata": {},
   "source": [
    "Task \tText \t \n",
    "match \twazzzzzup \tSuccess\n",
    "match \twazzzup \tSuccess\n",
    "skip \twazup\n",
    "\n",
    "Solution: waz{3,5}up"
   ]
  },
  {
   "cell_type": "markdown",
   "metadata": {},
   "source": [
    "## Lesson 7: Kleene Star/Kleene Plus\n",
    "\n",
    "### Collecting 0 or More Characters:\n",
    "\n",
    "#### Kleene Plus: 'a+'\n",
    "\n",
    "\\+ Represents 1 or More a's.\n",
    "\n",
    "#### Kleene Star: 'a*'\n",
    "\n",
    "\\* Represents 0 or More a's.\n",
    "\n",
    "This can be combined with [] to use lists of characters\n",
    "\n",
    "Ex: [abc]* = 0 or more a, b, OR c's\n",
    "\n",
    "### Collecting 0 or More Digits: \\d\n",
    "\n",
    "#### Specify ANY Number of Digits: \\d*\n",
    "\n",
    "\\d represents a digit, the * specifies 0 or more\n",
    "\n",
    "#### Specify ONE OR MORE Digits: \\d+\n",
    "\n",
    "\\d represents a digit, the + specifies 1 or more\n",
    "\n"
   ]
  },
  {
   "cell_type": "raw",
   "metadata": {},
   "source": [
    "Task \tText \t \n",
    "match \taaaabcc \tSuccess\n",
    "match \taabbbbc \tSuccess\n",
    "match \taacc \tSuccess\n",
    "skip \ta\n",
    "\n",
    "Solution: aa+b*c+"
   ]
  },
  {
   "cell_type": "markdown",
   "metadata": {},
   "source": [
    "## Lesson 8: Optional Characters\n",
    "\n",
    "Say we had 2 strings we wanted to pull, 'ab' and 'ac'. We could catch both of these strings using regex by using the '?' Operator. This is used to denote that we want either the character to the left of it OR the character to the right, as shown in the below example:"
   ]
  },
  {
   "cell_type": "raw",
   "metadata": {},
   "source": [
    "Task \tText \t \n",
    "match \t1 file found? \t    Success\n",
    "match \t2 files found? \t    Success\n",
    "match \t24 files found? \tSuccess\n",
    "skip \tNo files found.\n",
    "\n",
    "Solution: \\d+ files? found\\?"
   ]
  },
  {
   "cell_type": "markdown",
   "metadata": {},
   "source": [
    "## Lesson 9: Whitespace\n",
    "\n",
    "To capture any whitespace, use the '\\s' char to capture all whitespace in a string"
   ]
  },
  {
   "cell_type": "raw",
   "metadata": {},
   "source": [
    "Task \tText \t \n",
    "match \t1.   abc \tSuccess\n",
    "match \t2.\tabc \tSuccess\n",
    "match \t3.           abc \tSuccess\n",
    "skip \t4.abc\n",
    "\n",
    "Solution: \\sabc"
   ]
  },
  {
   "cell_type": "markdown",
   "metadata": {},
   "source": [
    "## Lesson 10: Capturing the Beginning and End of a String\n",
    "\n",
    "To capture strings that start with a specific string of chars, you can prepend a '^' to the string.\n",
    "\n",
    "To capture strings that end with a specific string of chars, you can append a '$' to the string."
   ]
  },
  {
   "cell_type": "raw",
   "metadata": {},
   "source": [
    "Task \tText \t \n",
    "match \tMission: successful \tSuccess\n",
    "skip \tLast Mission: unsuccessful \tTo be completed\n",
    "skip \tNext Mission: successful upon capture of target\n",
    "\n",
    "Solution: ^Mission: successful$"
   ]
  },
  {
   "cell_type": "markdown",
   "metadata": {},
   "source": [
    "## Lesson 11: Matching Groups\n",
    "\n",
    "To capture groups within a string, use parentheses to specify what part of the string you want to capture\n",
    "\n",
    "This is typically used to pull filenames, but not the entire extension.\n",
    "\n",
    "To pull a file with its extension, use (filename\\.filtetype) - this finds the full file, and includes its extension in the group\n",
    "\n",
    "To pull a file without its extension, use (filename\\.filetype) - This finds the full file and the extension, but doesn't capture the file's extension"
   ]
  },
  {
   "cell_type": "raw",
   "metadata": {},
   "source": [
    "Task \t    Text \t                    Capture Groups \t \n",
    "capture \tfile_record_transcript.pdf \tfile_record_transcript \tSuccess\n",
    "capture \tfile_07241999.pdf \t        file_07241999 \tSuccess\n",
    "skip \t    testfile_fake.pdf.tmp\n",
    "\n",
    "Solution: ^(file.+)\\.pdf"
   ]
  },
  {
   "cell_type": "markdown",
   "metadata": {},
   "source": [
    "## Lesson 12: Nested Groups\n",
    "\n",
    "To capture groups within a string, like the years, months and days in a date, you need to use nested parentheses. The nested parentheses return their own output, so for the date YYYYMMDD if you used regex string ^(\\d+(\\d+(\\d+))), you would get YYYYMMDD, MMDD, and DD as the results"
   ]
  },
  {
   "cell_type": "raw",
   "metadata": {},
   "source": [
    "Task \tText \tCapture Groups \t \n",
    "capture \tJan 1987 \tJan 1987 1987 \tSuccess\n",
    "capture \tMay 1969 \tMay 1969 1969 \tSuccess\n",
    "capture \tAug 2011 \tAug 2011 2011 \tSuccess\n",
    "\n",
    "Solution: ^(\\w+(\\d+))"
   ]
  },
  {
   "cell_type": "markdown",
   "metadata": {},
   "source": [
    "## Lesson 13: Groups continued\n",
    "\n",
    "Additionally, you can also use +, *, and {min, max} in conjunction with Groups and Nested Groups."
   ]
  },
  {
   "cell_type": "raw",
   "metadata": {},
   "source": [
    "Task \tText \tCapture Groups \t \n",
    "capture \t1280x720 \t1280 720 \tTo be completed\n",
    "capture \t1920x1600 \t1920 1600 \tTo be completed\n",
    "capture \t1024x768 \t1024 768\n",
    "\n",
    "Solution: (\\d+)x(\\d+)"
   ]
  },
  {
   "cell_type": "markdown",
   "metadata": {},
   "source": [
    "## Lesson 14: Conditionals\n",
    "\n",
    "For a group of characters, instead of using the ? operator for a single character, you can enclose the fields you want in a group and separate them with the | operator"
   ]
  },
  {
   "cell_type": "raw",
   "metadata": {},
   "source": [
    "Task \tText \t \n",
    "match \tI love cats \tSuccess\n",
    "match \tI love dogs \tSuccess\n",
    "skip \tI love logs \tTo be completed\n",
    "skip \tI love cogs\n",
    "\n",
    "Solution: I love (cat|dog)s"
   ]
  },
  {
   "cell_type": "markdown",
   "metadata": {},
   "source": [
    "## Lesson 15: Additional Characters\n",
    "\n",
    "Some additional characters are listed below:\n",
    "\n",
    "- \\D: Any non-digit character\n",
    "- \\W: Any non-alphanumeric character(like punctuation)\n",
    "- \\S: Any non-whitespace character\n",
    "- \\b: Captures the boundary between a word and a non-word character"
   ]
  }
 ],
 "metadata": {
  "kernelspec": {
   "display_name": ".env",
   "language": "python",
   "name": "python3"
  },
  "language_info": {
   "codemirror_mode": {
    "name": "ipython",
    "version": 3
   },
   "file_extension": ".py",
   "mimetype": "text/x-python",
   "name": "python",
   "nbconvert_exporter": "python",
   "pygments_lexer": "ipython3",
   "version": "3.11.7"
  }
 },
 "nbformat": 4,
 "nbformat_minor": 2
}
