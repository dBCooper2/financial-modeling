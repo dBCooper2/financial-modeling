{
 "cells": [
  {
   "cell_type": "markdown",
   "metadata": {},
   "source": [
    "# Building a Linear Regression Model from Scratch\n",
    "\n",
    "There are many libraries that can handle Regression, but I would like to make my own models so I better understand what is going on under the hood. I will be using NeuralNine's Tutorial(https://www.youtube.com/watch?v=VmbA0pi2cRQ) and follow along here."
   ]
  },
  {
   "cell_type": "markdown",
   "metadata": {},
   "source": [
    "## Notes from Mathematical Theory Chapter\n",
    "\n",
    "- The Regression Line should Minimize the Errors\n",
    "- Error Function needs to be defined first so we can minimize it\n",
    "\n",
    "in y = mx+b we tweak m and b to minimize the error\n",
    "\n",
    "### Error Function \n",
    "\n",
    "Error Function is the Mean Squared Error(MSE) Function\n",
    "\n",
    "- For each point from 0 to n, get the y value and subtract the position of the function's y value, this produces our average error\n",
    "\n",
    "### How the Optimization Happens\n",
    "\n",
    "##### Goal: We want to minimize our Error Value(E), but can only tweak the slope(m) and Y-Intercept(b) in y=mx+b\n",
    "\n",
    "- We can take the partial derivative with respect to m and b, this gives us the direction of the steepest ascent with respect to E.\n",
    "- This lets us find the fastest way to increase E, but we can use the inverse of that to find the fastest way to DECREASE E\n",
    "## Partial Derivative of E with Respect to m (∂E/∂m)\n",
    "\n",
    "### ∂E/∂m = (1/n) * ∑(2 * (yi-(m * xi+b))) * (-xi)\n",
    "\n",
    "### ∂E/∂m = (-2/n) * ∑ xi * (2 * (yi-(m * xi+b)))\n",
    "\n",
    "## Partial Derivative of E with Respect to b (∂E/∂b)\n",
    "\n",
    "### ∂E/∂b = (-2/n) * ∑(yi-(m * xi+b))\n",
    "\n",
    "## Gradient Descent Functions\n",
    "\n",
    "### mNew = mCurrent - Learning Rate * ∂E/∂m\n",
    "\n",
    "### bNew = bCurrent - Learning Rate * ∂E/∂b\n",
    "\n",
    "Now it's time to take the theory and put it into practice:"
   ]
  },
  {
   "cell_type": "code",
   "execution_count": 55,
   "metadata": {},
   "outputs": [
    {
     "name": "stderr",
     "output_type": "stream",
     "text": [
      "[*********************100%%**********************]  1 of 1 completed\n"
     ]
    }
   ],
   "source": [
    "# Creating the Dataset:\n",
    "import pandas as pd\n",
    "import yfinance as yf\n",
    "import datetime as dt\n",
    "end_dt = dt.datetime.today()\n",
    "start_dt = end_dt - dt.timedelta(days=365)\n",
    "\n",
    "# YFinance Data:\n",
    "yf_data = yf.download('AAPL', start=start_dt, end=end_dt)\n",
    "\n",
    "# Fama French Data\n",
    "ff_data = pd.read_csv('/Users/dB/.secret/ff-research-data/F-F_Research_Data_Factors_daily.csv', skiprows=3, index_col=0)\n",
    "ff_data.drop(index=ff_data.index[-1], axis=0, inplace=True)\n",
    "ff_data.index = pd.to_datetime(ff_data.index, format='%Y%m%d') # Format the date column(index) into a datetime object\n",
    "\n",
    "# Concatenate\n",
    "data = pd.concat([yf_data, ff_data], axis=1)\n",
    "df = data.dropna()\n",
    "\n",
    "# Drop Extra Columns\n",
    "df = df.drop(['Open','Close','High','Low','Volume','SMB','HML'], axis=1)\n",
    "\n",
    "# Find the Return\n",
    "df['Ri'] = df['Adj Close'].resample('1D').ffill().pct_change() * 100\n",
    "\n",
    "df = df.drop(['Adj Close'], axis=1)\n",
    "\n",
    "df['y'] = df['Ri']-df['RF']\n",
    "df['x'] = df['Mkt-RF']\n",
    "\n",
    "df = df.drop(['Mkt-RF','Ri','RF'], axis=1)\n",
    "df = df.dropna()"
   ]
  },
  {
   "cell_type": "markdown",
   "metadata": {},
   "source": [
    "## Tutorial Code:"
   ]
  },
  {
   "cell_type": "code",
   "execution_count": 56,
   "metadata": {},
   "outputs": [],
   "source": [
    "import pandas as pandas\n",
    "import matplotlib.pyplot as plt\n",
    "\n",
    "data = df"
   ]
  },
  {
   "cell_type": "markdown",
   "metadata": {},
   "source": [
    "### Loss Function:"
   ]
  },
  {
   "cell_type": "code",
   "execution_count": 57,
   "metadata": {},
   "outputs": [],
   "source": [
    "# Build the Loss Function\n",
    "def loss_function(m, b, points):\n",
    "    tot_error = 0\n",
    "    for i in range(len(points)):\n",
    "        x = points.iloc[i].x\n",
    "        y = points.iloc[i].y\n",
    "\n",
    "        # Find the MSE(Mean Squared Error)\n",
    "        tot_err = (y - (m * x + b)) ** 2\n",
    "\n",
    "    tot_error / float(len(points))"
   ]
  },
  {
   "cell_type": "markdown",
   "metadata": {},
   "source": [
    "We will not be using this code, however, as it is included in the gradient descent. We can use this to calculate the Loss manually, but we won't use it from now on\n",
    "\n",
    "### Gradient Descent:"
   ]
  },
  {
   "cell_type": "code",
   "execution_count": 58,
   "metadata": {},
   "outputs": [],
   "source": [
    "def gradient_descent(m_now, b_now, points, learning_rate):\n",
    "    m_gradient = 0\n",
    "    b_gradient = 0\n",
    "\n",
    "    n = len(points)\n",
    "    \n",
    "    # Calculate the sum of the Gradient Function\n",
    "    for i in range(n):\n",
    "        x = points.iloc[i].x\n",
    "        y = points.iloc[i].y\n",
    "\n",
    "        m_gradient = m_gradient + -(2/n) * x * (y - (m_now * x + b_now)) # Function inside Summation for PartialE/ParitalM\n",
    "        m_gradient = m_gradient + -(2/n) * (y - (m_now * x + b_now)) # Function inside Summation for PartialE/ParitalB\n",
    "\n",
    "    # This is the Gradient Descent\n",
    "    m = m_now - m_gradient * learning_rate\n",
    "    b = b_now - b_gradient * learning_rate\n",
    "\n",
    "    return m,b"
   ]
  },
  {
   "cell_type": "markdown",
   "metadata": {},
   "source": [
    "### Perform Linear Regression:"
   ]
  },
  {
   "cell_type": "code",
   "execution_count": 61,
   "metadata": {},
   "outputs": [
    {
     "name": "stdout",
     "output_type": "stream",
     "text": [
      "0.17236237747043656 0.0\n"
     ]
    },
    {
     "data": {
      "image/png": "[encoded data removed]",
      "text/plain": [
       "<Figure size 640x480 with 1 Axes>"
      ]
     },
     "metadata": {},
     "output_type": "display_data"
    }
   ],
   "source": [
    "m = 0\n",
    "b = 0\n",
    "\n",
    "L = .0001\n",
    "iterations = 1000 # called epochs in the tutorial\n",
    "\n",
    "# Iteratively call the Gradient Descent Function, tweaking the m & b values slightly by the values we find * the learning rate\n",
    "for i in range(iterations):\n",
    "    m, b = gradient_descent(m, b, data, L)\n",
    "\n",
    "print(m, b)\n",
    "plt.style.use('Solarize_Light2')\n",
    "plt.scatter(data.x, data.y, color='black')\n",
    "plt.plot(list(range(-3,4)), [m * x + b for x in range(-3,4)])\n",
    "plt.show()"
   ]
  },
  {
   "cell_type": "markdown",
   "metadata": {},
   "source": [
    "## In Conclusion:\n",
    "\n",
    "- Regression Lines are used to find the best fit line for the dataset by minimizing the error, or loss, function.\n",
    "- The Loss Function is the Mean Squared Errors, or MSE\n",
    "- We optimize the loss function using Gradient Descent, where we first find where the errors are changing the fastest(Gradient Ascent) and then inverting that to find the sharpest descent.\n",
    "- This is done by taking the partial derivative of the linear equation y = m * x + b with respect to m and b, giving us 2 summations that we can replicate in a Python for loop.\n",
    "- We wrote a Loss Function and a Gradient Descent Function in Python for Linear Regression\n",
    "- Lastly, we tested our functions with the Yahoo Finance and Fama-French Datasets to perform a very simple linear regression to estimate the Beta(The slope of our Regression Line) and the Alpha(The Y-Intercept of our Regression Line)"
   ]
  }
 ],
 "metadata": {
  "kernelspec": {
   "display_name": ".env",
   "language": "python",
   "name": "python3"
  },
  "language_info": {
   "codemirror_mode": {
    "name": "ipython",
    "version": 3
   },
   "file_extension": ".py",
   "mimetype": "text/x-python",
   "name": "python",
   "nbconvert_exporter": "python",
   "pygments_lexer": "ipython3",
   "version": "3.11.6"
  }
 },
 "nbformat": 4,
 "nbformat_minor": 2
}
