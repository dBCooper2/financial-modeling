{
 "cells": [
  {
   "cell_type": "markdown",
   "metadata": {},
   "source": [
    "# Using Regression with CAPM\n",
    "\n",
    "This code is for making a simple CAPM Regression Model using Dr. French's Historical Data and the TD Ameritrade API's Candle Data\n",
    "\n",
    "It takes data from: \n",
    "- ~~TD Ameritrade and tda-api: https://developer.tdameritrade.com/ & https://tda-api.readthedocs.io/en/latest/~~ (Doesn't give Adj. Close Data)\n",
    "- Yahoo Finance: https://finance.yahoo.com/ and the yfinance Package: https://readthedocs.org/projects/yfinance/\n",
    "- Dr. Kenneth R. French's Data Library(for risk-free rates and market rates): https://mba.tuck.dartmouth.edu/pages/faculty/ken.french/data_library.html\n",
    "\n",
    "#### For Next Time: You can directly connect to Dr. French's Database using the pandas datareader!\n",
    "\n",
    "##### data = reader.DataReader(<filename>, 'famafrench', start, end)\n",
    "\n",
    "This notebook also utilizes some prewritten functions to pull data without the big setups required for the tda-api, and can be found in the configs.py file in the functions subfolder\n",
    "\n",
    "The Configs and CSV Data Files will be saved in the repository /Users/dB/.secret/ under the filename 'tda-api-v6.json' and pathname 'ff-research-data'. Their paths are listed here for easier access while I write in this notebook:\n",
    "\n",
    "/Users/dB/.secret/tda-api-v6.json\n",
    "\n",
    "/Users/dB/.secret/ff-research-data/"
   ]
  },
  {
   "cell_type": "markdown",
   "metadata": {},
   "source": [
    "## Step 1: Import Necessary Packages and Add Configs"
   ]
  },
  {
   "cell_type": "code",
   "execution_count": 3,
   "metadata": {},
   "outputs": [],
   "source": [
    "# Imports -----------------------------------------------------------------------------\n",
    "# from tda.client import Client\n",
    "# from tda import auth as a\n",
    "import yfinance as yf\n",
    "import pandas as pd\n",
    "import datetime as dt\n",
    "import statsmodels.api as sm"
   ]
  },
  {
   "cell_type": "code",
   "execution_count": 4,
   "metadata": {},
   "outputs": [],
   "source": [
    "# Configs -----------------------------------------------------------------------------\n",
    "# tda_api_json_path = '/Users/dB/.secret/tda-api-v6.json'\n",
    "# tda_api_json = c.get_account_data(tda_api_json_path)\n",
    "\n",
    "ff_data_path = '/Users/dB/.secret/ff-research-data/F-F_Research_Data_Factors.CSV'\n",
    "ff_data_weekly_path = '/Users/dB/.secret/ff-research-data/F-F_Research_Data_Factors_weekly.CSV'\n",
    "ff_data_daily_path = '/Users/dB/.secret/ff-research-data/F-F_Research_Data_Factors_daily.csv'\n",
    "\n",
    "symbol = 'AMD'\n",
    "end_dt = dt.datetime.now() # Today's Date\n",
    "start_dt = end_dt - dt.timedelta(days = 1825) # Subtract 5 Years from Today"
   ]
  },
  {
   "cell_type": "markdown",
   "metadata": {},
   "source": [
    "## Step 2: Collect Data and Process into DataFrames\n",
    "\n",
    "To collect the data, we need to read Dr. French's CSVs for data and call the ~~TD Ameritrade~~ Yahoo Finance API for candle data.\n",
    "\n",
    "Reading Dr. French's CSVs is a simple process, all we need to do is decide to use daily or weekly data and then call Panda's read_from_csv() function. We will need to translate the dates into datetime objects to match up with the API data, which we can quickly do with pandas.to_datetime(index, format=%Y%m%d)\n",
    "\n",
    "Calling yfinance.download() will pull down candle data for a stock. This will provide us with the open, close, adjusted close, high, low and volume data for the specified timeframe. To get a larger dataset that we can join with Dr. French's dataset with pandas.concat(), we need to call download() with an interval of 1 day('1d')\n",
    "\n",
    "~~I have a function from the dBI project named get_price_history_df() that can call the API once a Client object is created, and we can pass in '1d' and '1w' as the periods parameter for the daily and weekly data.~~"
   ]
  },
  {
   "cell_type": "code",
   "execution_count": 5,
   "metadata": {},
   "outputs": [
    {
     "name": "stdout",
     "output_type": "stream",
     "text": [
      "Daily Data:\n",
      "            Mkt-RF   SMB   HML     RF\n",
      "datetime                             \n",
      "1926-07-01    0.10 -0.25 -0.27  0.009\n",
      "1926-07-02    0.45 -0.33 -0.06  0.009\n",
      "1926-07-06    0.17  0.30 -0.39  0.009\n",
      "1926-07-07    0.09 -0.58  0.02  0.009\n",
      "1926-07-08    0.21 -0.38  0.19  0.009\n"
     ]
    }
   ],
   "source": [
    "# Function to read data from the CSV\n",
    "def read_ff_csvs(path: str):\n",
    "    try:\n",
    "        df = pd.read_csv(path, skiprows=3, index_col=0) # Read CSV, skip the intro text in the csv\n",
    "        df.drop(index=df.index[-1], axis=0, inplace=True) # drop the \"Copyright\" row at the bottom\n",
    "        df.index = pd.to_datetime(df.index, format='%Y%m%d') # Format the date column(index) into a datetime object\n",
    "        \n",
    "    except FileNotFoundError as e:\n",
    "        print(e)\n",
    "    \n",
    "    return df\n",
    "\n",
    "daily_data = read_ff_csvs(ff_data_daily_path)\n",
    "\n",
    "daily_data.index.name = 'datetime'\n",
    "\n",
    "# Print the Data\n",
    "print('Daily Data:')\n",
    "print(daily_data.head())"
   ]
  },
  {
   "cell_type": "code",
   "execution_count": 6,
   "metadata": {},
   "outputs": [
    {
     "name": "stderr",
     "output_type": "stream",
     "text": [
      "[*********************100%%**********************]  1 of 1 completed"
     ]
    },
    {
     "name": "stdout",
     "output_type": "stream",
     "text": [
      "Daily Candles: \n",
      "                 Open       High        Low  Close  Adj Close     Volume\n",
      "Date                                                                    \n",
      "2019-01-28  20.320000  21.010000  20.020000  20.18      20.18  135164100\n",
      "2019-01-29  20.260000  20.389999  19.049999  19.25      19.25  131202500\n",
      "2019-01-30  21.490000  23.129999  21.370001  23.09      23.09  211421200\n",
      "2019-01-31  23.020000  25.139999  22.830000  24.41      24.41  182575600\n",
      "2019-02-01  24.610001  24.840000  24.070000  24.51      24.51  105356200\n"
     ]
    },
    {
     "name": "stderr",
     "output_type": "stream",
     "text": [
      "\n"
     ]
    }
   ],
   "source": [
    "# Call the API for candle data\n",
    "candles_daily = yf.download(tickers=symbol, start=start_dt, end=end_dt, interval='1d')\n",
    "\n",
    "# Printing Candles DataFrames:\n",
    "print('Daily Candles: ')\n",
    "print(candles_daily.head())"
   ]
  },
  {
   "cell_type": "markdown",
   "metadata": {},
   "source": [
    "# Step 3: Merge the DataFrames\n",
    "\n",
    "This step involves performing an inner-join on the API Data and French's Data DataFrames using DataFrame.concat"
   ]
  },
  {
   "cell_type": "code",
   "execution_count": 7,
   "metadata": {},
   "outputs": [
    {
     "name": "stdout",
     "output_type": "stream",
     "text": [
      "Daily DataFrame:\n",
      "                  Open        High         Low       Close   Adj Close  \\\n",
      "2019-01-28   20.320000   21.010000   20.020000   20.180000   20.180000   \n",
      "2019-01-29   20.260000   20.389999   19.049999   19.250000   19.250000   \n",
      "2019-01-30   21.490000   23.129999   21.370001   23.090000   23.090000   \n",
      "2019-01-31   23.020000   25.139999   22.830000   24.410000   24.410000   \n",
      "2019-02-01   24.610001   24.840000   24.070000   24.510000   24.510000   \n",
      "...                ...         ...         ...         ...         ...   \n",
      "2023-11-24  122.029999  123.250000  121.540001  122.309998  122.309998   \n",
      "2023-11-27  122.070000  123.889999  121.769997  122.650002  122.650002   \n",
      "2023-11-28  121.980003  122.540001  120.790001  122.010002  122.010002   \n",
      "2023-11-29  123.980003  125.730003  123.480003  123.849998  123.849998   \n",
      "2023-11-30  123.610001  124.050003  119.650002  121.160004  121.160004   \n",
      "\n",
      "                 Volume  Mkt-RF   SMB   HML     RF  \n",
      "2019-01-28  135164100.0   -0.80 -0.16  0.63  0.010  \n",
      "2019-01-29  131202500.0   -0.19 -0.01  0.17  0.010  \n",
      "2019-01-30  211421200.0    1.51 -0.15 -0.94  0.010  \n",
      "2019-01-31  182575600.0    0.92  0.12 -1.08  0.010  \n",
      "2019-02-01  105356200.0    0.14 -0.14  0.43  0.010  \n",
      "...                 ...     ...   ...   ...    ...  \n",
      "2023-11-24   19001000.0    0.11  0.59  0.19  0.021  \n",
      "2023-11-27   32743000.0   -0.23 -0.11 -0.08  0.021  \n",
      "2023-11-28   32047100.0    0.06 -0.29  0.05  0.021  \n",
      "2023-11-29   37876300.0    0.01  0.44  0.69  0.021  \n",
      "2023-11-30   44494200.0    0.35 -0.45  0.01  0.021  \n",
      "\n",
      "[1221 rows x 10 columns]\n"
     ]
    }
   ],
   "source": [
    "# Concatenate the DataFrames\n",
    "daily_df = pd.concat([candles_daily, daily_data], axis=1)\n",
    "daily_df = daily_df.dropna()\n",
    "\n",
    "# Print the DataFrames\n",
    "print('Daily DataFrame:')\n",
    "print(daily_df)"
   ]
  },
  {
   "cell_type": "markdown",
   "metadata": {},
   "source": [
    "Let's get rid of all the columns we don't need to keep the outputs cleaner"
   ]
  },
  {
   "cell_type": "code",
   "execution_count": 8,
   "metadata": {},
   "outputs": [
    {
     "name": "stdout",
     "output_type": "stream",
     "text": [
      "            Adj Close  Mkt-RF    RF\n",
      "2019-01-28      20.18   -0.80  0.01\n",
      "2019-01-29      19.25   -0.19  0.01\n",
      "2019-01-30      23.09    1.51  0.01\n",
      "2019-01-31      24.41    0.92  0.01\n",
      "2019-02-01      24.51    0.14  0.01\n"
     ]
    }
   ],
   "source": [
    "ddf_ff_capm = daily_df.drop(['Open', 'High', 'Low', 'Close', 'Volume', 'SMB','HML'], axis=1) # ddf_f = Daily DataFrame Filtered For CAPM\n",
    "print(ddf_ff_capm.head())"
   ]
  },
  {
   "cell_type": "markdown",
   "metadata": {},
   "source": [
    "# Step 4: Format DataFrame for Regression\n",
    "\n",
    "## CAPM Formula: Ri - rf = α + β * (Mkt - rf) + ε\n",
    "\n",
    "- Ri : Market Return\n",
    "- rf : Risk-Free Rate\n",
    "- Mkt : Market Rate\n",
    "- α : Alpha\n",
    "- β : Asset-Specific Risk\n",
    "- ε : Random Noise\n",
    "\n",
    "French's Dataset provides us with the (Mkt - rf) and rf terms, so we just need to calculate Ri before using regression. \n",
    "\n",
    "## Calculating Daily Returns:"
   ]
  },
  {
   "cell_type": "code",
   "execution_count": 9,
   "metadata": {},
   "outputs": [
    {
     "name": "stdout",
     "output_type": "stream",
     "text": [
      "            Adj Close  Mkt-RF    RF         Ri\n",
      "2019-01-29  19.250000   -0.19  0.01  -4.608525\n",
      "2019-01-30  23.090000    1.51  0.01  19.948053\n",
      "2019-01-31  24.410000    0.92  0.01   5.716759\n",
      "2019-02-01  24.510000    0.14  0.01   0.409670\n",
      "2019-02-04  24.129999    0.72  0.01  -1.550392\n"
     ]
    }
   ],
   "source": [
    "df = ddf_ff_capm\n",
    "df['Ri'] = df['Adj Close'].resample('1D').ffill().pct_change() # Calculates the Daily Percent Change from the Adjusted Close Price\n",
    "df['Ri'] = df['Ri']*100\n",
    "df2 = df.dropna()\n",
    "print(df2.head())\n",
    "capm_df = df2"
   ]
  },
  {
   "cell_type": "markdown",
   "metadata": {},
   "source": [
    "## Define the Variables:"
   ]
  },
  {
   "cell_type": "code",
   "execution_count": 10,
   "metadata": {},
   "outputs": [],
   "source": [
    "iv = capm_df['Mkt-RF'] # iv = independent variable\n",
    "dv = capm_df['Ri']-capm_df['RF'] # dv = dependent variable"
   ]
  },
  {
   "cell_type": "markdown",
   "metadata": {},
   "source": [
    "## Using Statsmodel.API to build the regression Model\n",
    "\n",
    "Later I will be building different Models from scratch to better understand what is going on underneath the hood, but to finish this notebook I will be performing CAPM Regression using the same methods as Algovibes in his video on CAPM Regression in Python(https://www.youtube.com/watch?v=Y-BqM3WaX-I)\n",
    "\n",
    "The Model we will be using is the Ordinary Least Squares Model"
   ]
  },
  {
   "cell_type": "code",
   "execution_count": 11,
   "metadata": {},
   "outputs": [
    {
     "data": {
      "text/html": [
       "<table class=\"simpletable\">\n",
       "<caption>OLS Regression Results</caption>\n",
       "<tr>\n",
       "  <th>Dep. Variable:</th>            <td>y</td>        <th>  R-squared:         </th> <td>   0.420</td> \n",
       "</tr>\n",
       "<tr>\n",
       "  <th>Model:</th>                   <td>OLS</td>       <th>  Adj. R-squared:    </th> <td>   0.419</td> \n",
       "</tr>\n",
       "<tr>\n",
       "  <th>Method:</th>             <td>Least Squares</td>  <th>  F-statistic:       </th> <td>   880.4</td> \n",
       "</tr>\n",
       "<tr>\n",
       "  <th>Date:</th>             <td>Thu, 25 Jan 2024</td> <th>  Prob (F-statistic):</th> <td>4.78e-146</td>\n",
       "</tr>\n",
       "<tr>\n",
       "  <th>Time:</th>                 <td>13:03:26</td>     <th>  Log-Likelihood:    </th> <td> -2876.2</td> \n",
       "</tr>\n",
       "<tr>\n",
       "  <th>No. Observations:</th>      <td>  1220</td>      <th>  AIC:               </th> <td>   5756.</td> \n",
       "</tr>\n",
       "<tr>\n",
       "  <th>Df Residuals:</th>          <td>  1218</td>      <th>  BIC:               </th> <td>   5767.</td> \n",
       "</tr>\n",
       "<tr>\n",
       "  <th>Df Model:</th>              <td>     1</td>      <th>                     </th>     <td> </td>    \n",
       "</tr>\n",
       "<tr>\n",
       "  <th>Covariance Type:</th>      <td>nonrobust</td>    <th>                     </th>     <td> </td>    \n",
       "</tr>\n",
       "</table>\n",
       "<table class=\"simpletable\">\n",
       "<tr>\n",
       "     <td></td>       <th>coef</th>     <th>std err</th>      <th>t</th>      <th>P>|t|</th>  <th>[0.025</th>    <th>0.975]</th>  \n",
       "</tr>\n",
       "<tr>\n",
       "  <th>const</th>  <td>    0.1156</td> <td>    0.073</td> <td>    1.578</td> <td> 0.115</td> <td>   -0.028</td> <td>    0.259</td>\n",
       "</tr>\n",
       "<tr>\n",
       "  <th>Mkt-RF</th> <td>    1.5675</td> <td>    0.053</td> <td>   29.671</td> <td> 0.000</td> <td>    1.464</td> <td>    1.671</td>\n",
       "</tr>\n",
       "</table>\n",
       "<table class=\"simpletable\">\n",
       "<tr>\n",
       "  <th>Omnibus:</th>       <td>329.073</td> <th>  Durbin-Watson:     </th> <td>   2.080</td>\n",
       "</tr>\n",
       "<tr>\n",
       "  <th>Prob(Omnibus):</th> <td> 0.000</td>  <th>  Jarque-Bera (JB):  </th> <td>1855.808</td>\n",
       "</tr>\n",
       "<tr>\n",
       "  <th>Skew:</th>          <td> 1.126</td>  <th>  Prob(JB):          </th> <td>    0.00</td>\n",
       "</tr>\n",
       "<tr>\n",
       "  <th>Kurtosis:</th>      <td> 8.607</td>  <th>  Cond. No.          </th> <td>    1.39</td>\n",
       "</tr>\n",
       "</table><br/><br/>Notes:<br/>[1] Standard Errors assume that the covariance matrix of the errors is correctly specified."
      ],
      "text/latex": [
       "\\begin{center}\n",
       "\\begin{tabular}{lclc}\n",
       "\\toprule\n",
       "\\textbf{Dep. Variable:}    &        y         & \\textbf{  R-squared:         } &     0.420   \\\\\n",
       "\\textbf{Model:}            &       OLS        & \\textbf{  Adj. R-squared:    } &     0.419   \\\\\n",
       "\\textbf{Method:}           &  Least Squares   & \\textbf{  F-statistic:       } &     880.4   \\\\\n",
       "\\textbf{Date:}             & Thu, 25 Jan 2024 & \\textbf{  Prob (F-statistic):} & 4.78e-146   \\\\\n",
       "\\textbf{Time:}             &     13:03:26     & \\textbf{  Log-Likelihood:    } &   -2876.2   \\\\\n",
       "\\textbf{No. Observations:} &        1220      & \\textbf{  AIC:               } &     5756.   \\\\\n",
       "\\textbf{Df Residuals:}     &        1218      & \\textbf{  BIC:               } &     5767.   \\\\\n",
       "\\textbf{Df Model:}         &           1      & \\textbf{                     } &             \\\\\n",
       "\\textbf{Covariance Type:}  &    nonrobust     & \\textbf{                     } &             \\\\\n",
       "\\bottomrule\n",
       "\\end{tabular}\n",
       "\\begin{tabular}{lcccccc}\n",
       "                & \\textbf{coef} & \\textbf{std err} & \\textbf{t} & \\textbf{P$> |$t$|$} & \\textbf{[0.025} & \\textbf{0.975]}  \\\\\n",
       "\\midrule\n",
       "\\textbf{const}  &       0.1156  &        0.073     &     1.578  &         0.115        &       -0.028    &        0.259     \\\\\n",
       "\\textbf{Mkt-RF} &       1.5675  &        0.053     &    29.671  &         0.000        &        1.464    &        1.671     \\\\\n",
       "\\bottomrule\n",
       "\\end{tabular}\n",
       "\\begin{tabular}{lclc}\n",
       "\\textbf{Omnibus:}       & 329.073 & \\textbf{  Durbin-Watson:     } &    2.080  \\\\\n",
       "\\textbf{Prob(Omnibus):} &   0.000 & \\textbf{  Jarque-Bera (JB):  } & 1855.808  \\\\\n",
       "\\textbf{Skew:}          &   1.126 & \\textbf{  Prob(JB):          } &     0.00  \\\\\n",
       "\\textbf{Kurtosis:}      &   8.607 & \\textbf{  Cond. No.          } &     1.39  \\\\\n",
       "\\bottomrule\n",
       "\\end{tabular}\n",
       "%\\caption{OLS Regression Results}\n",
       "\\end{center}\n",
       "\n",
       "Notes: \\newline\n",
       " [1] Standard Errors assume that the covariance matrix of the errors is correctly specified."
      ],
      "text/plain": [
       "<class 'statsmodels.iolib.summary.Summary'>\n",
       "\"\"\"\n",
       "                            OLS Regression Results                            \n",
       "==============================================================================\n",
       "Dep. Variable:                      y   R-squared:                       0.420\n",
       "Model:                            OLS   Adj. R-squared:                  0.419\n",
       "Method:                 Least Squares   F-statistic:                     880.4\n",
       "Date:                Thu, 25 Jan 2024   Prob (F-statistic):          4.78e-146\n",
       "Time:                        13:03:26   Log-Likelihood:                -2876.2\n",
       "No. Observations:                1220   AIC:                             5756.\n",
       "Df Residuals:                    1218   BIC:                             5767.\n",
       "Df Model:                           1                                         \n",
       "Covariance Type:            nonrobust                                         \n",
       "==============================================================================\n",
       "                 coef    std err          t      P>|t|      [0.025      0.975]\n",
       "------------------------------------------------------------------------------\n",
       "const          0.1156      0.073      1.578      0.115      -0.028       0.259\n",
       "Mkt-RF         1.5675      0.053     29.671      0.000       1.464       1.671\n",
       "==============================================================================\n",
       "Omnibus:                      329.073   Durbin-Watson:                   2.080\n",
       "Prob(Omnibus):                  0.000   Jarque-Bera (JB):             1855.808\n",
       "Skew:                           1.126   Prob(JB):                         0.00\n",
       "Kurtosis:                       8.607   Cond. No.                         1.39\n",
       "==============================================================================\n",
       "\n",
       "Notes:\n",
       "[1] Standard Errors assume that the covariance matrix of the errors is correctly specified.\n",
       "\"\"\""
      ]
     },
     "execution_count": 11,
     "metadata": {},
     "output_type": "execute_result"
    }
   ],
   "source": [
    "# Adding an Intercept:\n",
    "ic = sm.add_constant(iv)\n",
    "\n",
    "# Build the Model:\n",
    "model = sm.OLS(dv, ic)\n",
    "\n",
    "# Fit the Model\n",
    "results = model.fit()\n",
    "results.summary()"
   ]
  },
  {
   "cell_type": "markdown",
   "metadata": {},
   "source": [
    "This gives us the Values of α and β, which can be found in the 2nd table of the summary, under the 'coef' column. The value of α is the 'const' row, and the value of β is in the 'Mkt-RF' row.\n",
    "\n",
    "But how do we know if the values are correct?\n",
    "We can check the Yahoo Finance Page for the Stock(AMD) and compare the Betas.(https://finance.yahoo.com/quote/AMD/)\n",
    "\n",
    "Lastly, we can plot the data with Seaborn like Algovibes did in his tutorial:"
   ]
  },
  {
   "cell_type": "code",
   "execution_count": 12,
   "metadata": {},
   "outputs": [
    {
     "data": {
      "text/plain": [
       "<Axes: xlabel='Mkt-RF', ylabel='Ri'>"
      ]
     },
     "execution_count": 12,
     "metadata": {},
     "output_type": "execute_result"
    },
    {
     "data": {
      "image/png": "[encoded data removed]",
      "text/plain": [
       "<Figure size 640x480 with 1 Axes>"
      ]
     },
     "metadata": {},
     "output_type": "display_data"
    }
   ],
   "source": [
    "import seaborn as sns\n",
    "sns.regplot(x='Mkt-RF', y='Ri', data=capm_df)"
   ]
  },
  {
   "cell_type": "markdown",
   "metadata": {},
   "source": [
    "## Next Steps: From Dr. Forjan's Lecture\n",
    "\n",
    "- Graph...\n",
    "    - Security Market Line(SML): X-Axis is Beta, Y-Axis is Expected Return(E(Ri))\n",
    "        - Mark RF, E(Rm), and Beta of 1.0\n",
    "        - Draw Box with vertices (0,RF), (0,E(Rm)), (1,0), (1, Beta(i)=Beta(mkt))\n",
    "    - \n",
    "- Interpreting Beta...\n",
    "\n",
    "    - For a company i...\n",
    "\n",
    "        - βi = 𝜎im/𝜎m^2\n",
    "            \n",
    "            Where:\n",
    "            - 𝜎m is the variance of the market return\n",
    "            - 𝜎im is the covariance of the individual stock's return and the market return\n",
    "        - βi = (ρim) * (𝜎im/𝜎m^2) \n",
    "            \n",
    "            Where:\n",
    "            - ρim is the correlation coefficient between the individual stock's return and the market return"
   ]
  }
 ],
 "metadata": {
  "kernelspec": {
   "display_name": "dBI",
   "language": "python",
   "name": "python3"
  },
  "language_info": {
   "codemirror_mode": {
    "name": "ipython",
    "version": 3
   },
   "file_extension": ".py",
   "mimetype": "text/x-python",
   "name": "python",
   "nbconvert_exporter": "python",
   "pygments_lexer": "ipython3",
   "version": "3.11.7"
  }
 },
 "nbformat": 4,
 "nbformat_minor": 2
}
