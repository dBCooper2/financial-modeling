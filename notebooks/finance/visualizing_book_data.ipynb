{
 "cells": [
  {
   "cell_type": "markdown",
   "metadata": {},
   "source": [
    "# Visualizing Book Data in MatPlotLib\n",
    "\n",
    "## TODO: \n",
    "- Import yfinance, Matplotlib, pandas, datetime\n",
    "- create a yfinance ticker\n",
    "- call Ticker.income_stmt, Ticker.balance_sheet, Ticker.cashflow, Ticker.quarterly_income_stmt, Ticker.quarterly_balance_sheet, Ticker.quarterly_cashflow for financial statements\n",
    "- graph data like Free Cash Flow and add Moving Averages"
   ]
  },
  {
   "cell_type": "markdown",
   "metadata": {},
   "source": []
  }
 ],
 "metadata": {
  "language_info": {
   "name": "python"
  }
 },
 "nbformat": 4,
 "nbformat_minor": 2
}
