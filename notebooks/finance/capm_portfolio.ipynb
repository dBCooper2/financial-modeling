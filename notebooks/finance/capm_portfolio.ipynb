{
 "cells": [
  {
   "cell_type": "markdown",
   "metadata": {},
   "source": [
    "\n",
    "# Estimating a Portfolio's Beta with CAPM\n",
    "\n",
    "Now that we can estimate a single position's Beta, how do we estimate a Portfolio's Beta?\n",
    "\n",
    "## Portfolio Betas (From FIN 3210)\n",
    "\n",
    "- We estimated a Portfolio's Beta by taking a weighted average of each position's Beta within the Portfolio\n",
    "    - EX: A Portfolio made up of 50% Stock A, 25% Stock B and 25% Stock C\n",
    "    - Portfolio Beta = (.5 * Beta of Stock A) + (.25 * Beta of Stock B) + (.25 * Beta of Stock C)\n",
    "- Is this applicable to the estimations of the beta, or do I need to find a new method?\n",
    "    - According to https://stablebread.com/calculate-interpret-stock-portfolio-beta/, this is the correct method\n",
    "\n",
    "## Steps\n",
    "\n",
    "1. Create a Portfolio of Stocks and Pull their Adj Close Data from yfinance, trim to Return %\n",
    "    \n",
    "2. Pull Fama-French Data\n",
    "    \n",
    "3. Create an average return %(Weighted Avg and Non-Weighted Avg)\n",
    "\n",
    "4. Concatenate\n",
    "\n",
    "5. Run Regression"
   ]
  }
 ],
 "metadata": {
  "language_info": {
   "name": "python"
  }
 },
 "nbformat": 4,
 "nbformat_minor": 2
}
