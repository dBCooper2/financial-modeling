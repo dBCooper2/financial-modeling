{
 "cells": [
  {
   "cell_type": "markdown",
   "metadata": {},
   "source": [
    "# The Fama-French 3 Factor Model\n",
    "\n",
    "Expanding on the Capital Asset Pricing Model(CAPM) for stocks, the Fama-French Model is an updated version that takes size risk and value risks into account when estimating the Beta of the Stock.\n",
    "\n",
    "Dr. Eugene Fama and Dr. Kenneth French attempted to develop a model to better understand market returns, and found that value stocks outperform growth stocks. Additionally, they found that small-cap stocks outperform large-cap stocks. They found that these factors resulted in a lower market return than the CAPM result, and could explain up to 95% of the return in a well-diversified portfolio.\n",
    "\n",
    "The Formula is:\n",
    "\n",
    "#### Rit ​− Rft ​= αit ​+ β1 * ​(RMt ​− Rft​) + β2 * ​SMBt ​+ β3 * ​HMLt ​+ ϵit\n",
    "\n",
    "​Where:\n",
    "- Rit​= Total Return of a Stock or Portfolio i at Time t\n",
    "- Rft​= Risk-Free Rate of Return at Time t\n",
    "- RMt​= Total Market Portfolio Return at Time t\n",
    "- Rit​−Rft​= Expected Excess Return\n",
    "- RMt​−Rft​= Excess Return on the Market Portfolio (index)\n",
    "- SMBt​= Size Premium (small minus big)\n",
    "- HMLt​= Value Premium (high minus low)\n",
    "- β1,2,3​= Factor Coefficients​\n",
    "- α = Unexplained Return\n",
    "- ϵ = Random Noise\n",
    "\n",
    "(paraphrased from Investopedia at https://www.investopedia.com/terms/f/famaandfrenchthreefactormodel.asp)\n",
    "\n"
   ]
  },
  {
   "cell_type": "markdown",
   "metadata": {},
   "source": []
  }
 ],
 "metadata": {
  "language_info": {
   "name": "python"
  }
 },
 "nbformat": 4,
 "nbformat_minor": 2
}
