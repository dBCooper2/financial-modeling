{
 "cells": [
  {
   "cell_type": "markdown",
   "metadata": {},
   "source": [
    "# Benchmarking Portfolio Performance\n",
    "\n",
    "This notebook aims to Pythonically measure portfolio performance using several performance measures from Dr. James Forjan's lecture, \"Modern Portfolio Theory(MPT) and the Capital Asset Pricing Model(CAPM) (FRM P1 2021 - B1 - Ch5)\"(https://www.youtube.com/watch?v=UiLKoRKppY8)\n",
    "\n",
    "## Performance Measures\n",
    "\n",
    "Now that we can estimate the Beta of a position and a portfolio, how can we measure these results? We have X methods so far:\n",
    "\n",
    "### Treynor Measure\n",
    "\n",
    "### Sharpe Measure\n",
    "\n",
    "### Jensen Measure\n",
    "\n",
    "### Tracking-Error\n",
    "\n",
    "### Information Ratio\n",
    "\n",
    "### Sortino Ratio"
   ]
  },
  {
   "cell_type": "markdown",
   "metadata": {},
   "source": []
  }
 ],
 "metadata": {
  "language_info": {
   "name": "python"
  }
 },
 "nbformat": 4,
 "nbformat_minor": 2
}
